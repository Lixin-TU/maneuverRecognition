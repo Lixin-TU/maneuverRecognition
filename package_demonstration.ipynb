{
 "cells": [
  {
   "cell_type": "markdown",
   "source": [
    "# Maneuver Recognition Package"
   ],
   "metadata": {
    "collapsed": false
   },
   "id": "b86cadaf1eff345b"
  },
  {
   "cell_type": "markdown",
   "source": [
    "## Contents"
   ],
   "metadata": {
    "collapsed": false
   },
   "id": "fd68dae632fecd7"
  },
  {
   "cell_type": "markdown",
   "source": [
    "## About"
   ],
   "metadata": {
    "collapsed": false
   },
   "id": "d009b9c2fe48257a"
  },
  {
   "cell_type": "code",
   "execution_count": 17,
   "outputs": [],
   "source": [],
   "metadata": {
    "collapsed": false,
    "ExecuteTime": {
     "end_time": "2023-10-25T14:07:17.185795Z",
     "start_time": "2023-10-25T14:07:17.099131Z"
    }
   },
   "id": "cdc892e2a217a404"
  },
  {
   "cell_type": "code",
   "execution_count": 17,
   "outputs": [],
   "source": [],
   "metadata": {
    "collapsed": false,
    "ExecuteTime": {
     "end_time": "2023-10-25T14:07:17.188562Z",
     "start_time": "2023-10-25T14:07:17.104327Z"
    }
   },
   "id": "3a8933e65ed55d51"
  },
  {
   "cell_type": "markdown",
   "id": "fbb27cb94e897b93",
   "metadata": {},
   "source": [
    "..."
   ]
  },
  {
   "cell_type": "markdown",
   "source": [
    "## Example application: Real world vehicle maneuver recognition using smartphone sensors and LSTM models"
   ],
   "metadata": {
    "collapsed": false
   },
   "id": "d7124242230f4084"
  },
  {
   "cell_type": "markdown",
   "source": [
    "### Project background\n",
    "\n",
    "<center>\n",
    "<img src=\"images/sensor_axes.png\" width=\"800\"/>\n",
    "</center>\n",
    "\n",
    "Positioning ...\n",
    "\n",
    "![Sensor axes with positioning in vehicle](images/sensor_positioning.png)\n",
    "\n"
   ],
   "metadata": {
    "collapsed": false
   },
   "id": "2f9d27545f9ef942"
  },
  {
   "cell_type": "code",
   "execution_count": 17,
   "outputs": [],
   "source": [],
   "metadata": {
    "collapsed": false,
    "ExecuteTime": {
     "end_time": "2023-10-25T14:07:17.205869Z",
     "start_time": "2023-10-25T14:07:17.111855Z"
    }
   },
   "id": "a521e3215b1e6b6"
  },
  {
   "cell_type": "code",
   "execution_count": 18,
   "id": "52f60b9764ed04d2",
   "metadata": {
    "ExecuteTime": {
     "end_time": "2023-10-25T14:07:17.276079Z",
     "start_time": "2023-10-25T14:07:17.116351Z"
    }
   },
   "outputs": [],
   "source": [
    "import pandas as pd\n",
    "import numpy as np\n",
    "import plotly.graph_objs as go\n",
    "import torch\n",
    "import torch.nn as nn"
   ]
  },
  {
   "cell_type": "markdown",
   "id": "e7631d40d34bb2e1",
   "metadata": {},
   "source": [
    "### Loading the dataset\n",
    "The dataset consists of 19 variables and the recording of three different people with different vehicles. Each driving maneuver was assigned a maneuver type, the route section, and road type as well as an unique maneuver ID. The smartphone sensor data includes datetime, acceleration on and rotation around three orthogonal axes, as well as GPS information such as longitude, latitude, altitude, accuracy and speed."
   ]
  },
  {
   "cell_type": "code",
   "execution_count": 19,
   "id": "fe2e33085b226be8",
   "metadata": {
    "ExecuteTime": {
     "end_time": "2023-10-25T14:07:17.370562Z",
     "start_time": "2023-10-25T14:07:17.120931Z"
    }
   },
   "outputs": [
    {
     "data": {
      "text/plain": "                  datetime      accX      accY      accZ     gyroX     gyroY  \\\n0  2023-01-06 10:44:29.466  0.021387 -0.006456 -0.084595 -0.072036 -0.009720   \n1  2023-01-06 10:44:29.958  0.023271  0.100068  0.143770  0.013182  0.004794   \n2  2023-01-06 10:44:30.456  0.030368 -0.006946  0.019102  0.000000 -0.001997   \n3  2023-01-06 10:44:30.957  0.012233 -0.005673  0.002899  0.000266  0.001198   \n4  2023-01-06 10:44:31.456  0.017861  0.001417  0.017249 -0.001332 -0.002397   \n\n      gyroZ   latitude  longitude   altitude  accuracy     speed  maneuverID  \\\n0 -0.006924  52.366269   9.761421  98.700005    11.716  0.060892  000000-P1M   \n1  0.000399  52.366269   9.761421  98.700005    11.716  0.060892  000000-P1M   \n2  0.001198  52.366270   9.761421  98.700005     9.591  0.035770  000000-P1M   \n3  0.001065  52.366270   9.761421  98.700005     9.591  0.035770  000000-P1M   \n4  0.000399  52.366270   9.761421  98.700005     9.591  0.035770  000000-P1M   \n\n  maneuverType maneuverElement  section     roadType      vehicle person  \n0   stationary      stationary        1  Stadtstraße  Skoda Fabia    P01  \n1   stationary      stationary        1  Stadtstraße  Skoda Fabia    P01  \n2   stationary      stationary        1  Stadtstraße  Skoda Fabia    P01  \n3   stationary      stationary        1  Stadtstraße  Skoda Fabia    P01  \n4   stationary      stationary        1  Stadtstraße  Skoda Fabia    P01  ",
      "text/html": "<div>\n<style scoped>\n    .dataframe tbody tr th:only-of-type {\n        vertical-align: middle;\n    }\n\n    .dataframe tbody tr th {\n        vertical-align: top;\n    }\n\n    .dataframe thead th {\n        text-align: right;\n    }\n</style>\n<table border=\"1\" class=\"dataframe\">\n  <thead>\n    <tr style=\"text-align: right;\">\n      <th></th>\n      <th>datetime</th>\n      <th>accX</th>\n      <th>accY</th>\n      <th>accZ</th>\n      <th>gyroX</th>\n      <th>gyroY</th>\n      <th>gyroZ</th>\n      <th>latitude</th>\n      <th>longitude</th>\n      <th>altitude</th>\n      <th>accuracy</th>\n      <th>speed</th>\n      <th>maneuverID</th>\n      <th>maneuverType</th>\n      <th>maneuverElement</th>\n      <th>section</th>\n      <th>roadType</th>\n      <th>vehicle</th>\n      <th>person</th>\n    </tr>\n  </thead>\n  <tbody>\n    <tr>\n      <th>0</th>\n      <td>2023-01-06 10:44:29.466</td>\n      <td>0.021387</td>\n      <td>-0.006456</td>\n      <td>-0.084595</td>\n      <td>-0.072036</td>\n      <td>-0.009720</td>\n      <td>-0.006924</td>\n      <td>52.366269</td>\n      <td>9.761421</td>\n      <td>98.700005</td>\n      <td>11.716</td>\n      <td>0.060892</td>\n      <td>000000-P1M</td>\n      <td>stationary</td>\n      <td>stationary</td>\n      <td>1</td>\n      <td>Stadtstraße</td>\n      <td>Skoda Fabia</td>\n      <td>P01</td>\n    </tr>\n    <tr>\n      <th>1</th>\n      <td>2023-01-06 10:44:29.958</td>\n      <td>0.023271</td>\n      <td>0.100068</td>\n      <td>0.143770</td>\n      <td>0.013182</td>\n      <td>0.004794</td>\n      <td>0.000399</td>\n      <td>52.366269</td>\n      <td>9.761421</td>\n      <td>98.700005</td>\n      <td>11.716</td>\n      <td>0.060892</td>\n      <td>000000-P1M</td>\n      <td>stationary</td>\n      <td>stationary</td>\n      <td>1</td>\n      <td>Stadtstraße</td>\n      <td>Skoda Fabia</td>\n      <td>P01</td>\n    </tr>\n    <tr>\n      <th>2</th>\n      <td>2023-01-06 10:44:30.456</td>\n      <td>0.030368</td>\n      <td>-0.006946</td>\n      <td>0.019102</td>\n      <td>0.000000</td>\n      <td>-0.001997</td>\n      <td>0.001198</td>\n      <td>52.366270</td>\n      <td>9.761421</td>\n      <td>98.700005</td>\n      <td>9.591</td>\n      <td>0.035770</td>\n      <td>000000-P1M</td>\n      <td>stationary</td>\n      <td>stationary</td>\n      <td>1</td>\n      <td>Stadtstraße</td>\n      <td>Skoda Fabia</td>\n      <td>P01</td>\n    </tr>\n    <tr>\n      <th>3</th>\n      <td>2023-01-06 10:44:30.957</td>\n      <td>0.012233</td>\n      <td>-0.005673</td>\n      <td>0.002899</td>\n      <td>0.000266</td>\n      <td>0.001198</td>\n      <td>0.001065</td>\n      <td>52.366270</td>\n      <td>9.761421</td>\n      <td>98.700005</td>\n      <td>9.591</td>\n      <td>0.035770</td>\n      <td>000000-P1M</td>\n      <td>stationary</td>\n      <td>stationary</td>\n      <td>1</td>\n      <td>Stadtstraße</td>\n      <td>Skoda Fabia</td>\n      <td>P01</td>\n    </tr>\n    <tr>\n      <th>4</th>\n      <td>2023-01-06 10:44:31.456</td>\n      <td>0.017861</td>\n      <td>0.001417</td>\n      <td>0.017249</td>\n      <td>-0.001332</td>\n      <td>-0.002397</td>\n      <td>0.000399</td>\n      <td>52.366270</td>\n      <td>9.761421</td>\n      <td>98.700005</td>\n      <td>9.591</td>\n      <td>0.035770</td>\n      <td>000000-P1M</td>\n      <td>stationary</td>\n      <td>stationary</td>\n      <td>1</td>\n      <td>Stadtstraße</td>\n      <td>Skoda Fabia</td>\n      <td>P01</td>\n    </tr>\n  </tbody>\n</table>\n</div>"
     },
     "execution_count": 19,
     "metadata": {},
     "output_type": "execute_result"
    }
   ],
   "source": [
    "df = pd.read_csv(\"data/SensorRec_data_eng.csv\")\n",
    "df.head(5)"
   ]
  },
  {
   "cell_type": "code",
   "execution_count": 20,
   "id": "40864c56e58ab9da",
   "metadata": {
    "ExecuteTime": {
     "end_time": "2023-10-25T14:07:17.370885Z",
     "start_time": "2023-10-25T14:07:17.243859Z"
    }
   },
   "outputs": [],
   "source": [
    "df_p1 = df.loc[df['person'] == 'P01', :]\n",
    "df_p2 = df.loc[df['person'] == 'P02', :]\n",
    "df_p3 = df.loc[df['person'] == 'P03', :]\n",
    "\n",
    "dataframe_list = [df_p1, df_p2, df_p3]"
   ]
  },
  {
   "cell_type": "markdown",
   "id": "e92c5089c93851a6",
   "metadata": {},
   "source": [
    "## Preprocessing"
   ]
  },
  {
   "cell_type": "markdown",
   "id": "917f83cfaaf18868",
   "metadata": {},
   "source": [
    "#### Windowing and Train-/Test-Splitting with preprocessing.timeseries_train_test_split\n",
    "\n",
    "Our goal is to create a model which can correctly identify driving maneuvers in unknown data of future driving recordings. Therefore, to train the model, we cannot simply use the individual maneuvers already assigned to their IDs, but have to use a sliding window to create training and testing cases.\n",
    "\n",
    "In order to do that, we are in need of two specific functions:\n",
    "1. A windowing function that gets our data and returns windows with a specific amount of time steps and a specific step length between those windows in the shape of (cases, timesteps, variables).\n",
    "2. A function to split the data into training and testing data before the windowing is applied. If we do not split training and testing data before using the windowing function, there will be data leakage because overlapping windows may end up in both partitions.\n",
    "\n",
    "For this purpose we can use the timeseries_train_test_split function in the preprocessing module. It first splits the given dataframe in an arbitrary number of partitions. Then it randomly selects some of these partitions in regard to our test size and removes them from a copy of the full dataframe. The remaining data will be used for training. We can also use this function to apply a robust scaling which will use the training data for fitting the scaler. The windowing function will then be applied on the training and testing partitions separately.\n",
    "\n",
    "With this approach, it can still happen occasionally that we create unnatural transitions between maneuvers that occurred before and after the partitions we cut out for the test data or that we break some maneuvers. However, the amount of it which depends on the number of splits we use will be negligible, as it is clearly more important that we have absolutely no data leakage. \n",
    "\n",
    "The following parameters can be configured:\n",
    "- splits: Number of random partitions in which data will be separated before windowing will be applied.\n",
    "- test_size: Proportion of data to use for testing.\n",
    "- time_steps: Length of windows in number of rows.\n",
    "- step_size: Steps between windows in number of rows.\n",
    "- scale: Bool whether we apply robust scaling or not.\n",
    "\n",
    "Since we have data of three different persons and to ensure that different route segments of the trips can appear in the training and test data we will apply the timeseries_train_test_split function on each individual dataset and combine the windowed data subsequently. Our windows will have a length of 20 timesteps which is 10 seconds in our dataset and we will use a stepsize of 4 timesteps which equals 2 seconds. We then merge the data, with every window seperated and already in the right shape."
   ]
  },
  {
   "cell_type": "code",
   "execution_count": 21,
   "id": "e2b2b2ab0016ea0a",
   "metadata": {
    "ExecuteTime": {
     "end_time": "2023-10-25T14:07:19.104965Z",
     "start_time": "2023-10-25T14:07:17.265564Z"
    }
   },
   "outputs": [],
   "source": [
    "from maneuver_recognition import preprocessing\n",
    "\n",
    "x_vars = ['accX', 'accY', 'accZ', 'gyroX', 'gyroY', 'gyroZ', 'speed']\n",
    "y_var = 'maneuverType'\n",
    "splits = 40\n",
    "test_size = 0.2\n",
    "time_steps = 20\n",
    "step_size = 4\n",
    "\n",
    "X_train, y_train, X_test, y_test = [], [], [], []\n",
    "for df in dataframe_list:\n",
    "    X_train_df, y_train_df, X_test_df, y_test_df = preprocessing.timeseries_train_test_split(df, x_variables=x_vars,\n",
    "                y_variable=y_var, splits=splits, test_size=test_size,time_steps=time_steps, step_size=step_size, scale=True)\n",
    "\n",
    "    \n",
    "    X_train.append(X_train_df)\n",
    "    y_train.append(y_train_df)\n",
    "    X_test.append(X_test_df)\n",
    "    y_test.append(y_test_df)\n",
    "    \n",
    "X_train, y_train, X_test, y_test = np.vstack(X_train), np.vstack(y_train), np.vstack(X_test), np.vstack(y_test)"
   ]
  },
  {
   "cell_type": "markdown",
   "id": "a5ecdfba9dd8600c",
   "metadata": {},
   "source": [
    "Using this function will result in having our train and test data partitions in a shape of (cases, timesteps, variables) for x and (cases, label) for y."
   ]
  },
  {
   "cell_type": "code",
   "execution_count": 22,
   "id": "ef3168f6fd3781bb",
   "metadata": {
    "ExecuteTime": {
     "end_time": "2023-10-25T14:07:19.124573Z",
     "start_time": "2023-10-25T14:07:19.106080Z"
    }
   },
   "outputs": [
    {
     "data": {
      "text/plain": "((5744, 20, 7), (1328, 20, 7), (5744, 1), (1328, 1))"
     },
     "execution_count": 22,
     "metadata": {},
     "output_type": "execute_result"
    }
   ],
   "source": [
    "X_train.shape, X_test.shape, y_train.shape, y_test.shape"
   ]
  },
  {
   "cell_type": "markdown",
   "id": "d5e94d63a8669278",
   "metadata": {},
   "source": []
  },
  {
   "cell_type": "markdown",
   "id": "daeba980947b2e9c",
   "metadata": {},
   "source": [
    "#### Dropping rare maneuvers and balancing classes with preprocessing.remove_maneuvers\n",
    "\n",
    "To examine how many individual driving maneuvers were recorded per maneuver type, the following plot can be considered. It turns out that some maneuvers, such as overtaking or crossing an intersection, occurred in too few cases overall. Therefore these maneuvers should be excluded. By using preprocessing.remove_maneuvers we can drop maneuvers completely or apply undersampling to balance the class distributions within both our test and training data."
   ]
  },
  {
   "cell_type": "code",
   "execution_count": 23,
   "id": "97615cb7879a438a",
   "metadata": {
    "ExecuteTime": {
     "end_time": "2023-10-25T14:07:19.189615Z",
     "start_time": "2023-10-25T14:07:19.133965Z"
    }
   },
   "outputs": [
    {
     "data": {
      "application/vnd.plotly.v1+json": {
       "data": [
        {
         "name": "Training data",
         "x": [
          "acceleration_from_standing",
          "acceleration_lane",
          "continuous_driving",
          "crossing_intersection",
          "crossing_roundabout",
          "curve_left",
          "curve_right",
          "deceleration_lane",
          "overtaking",
          "stationary",
          "targeted_braking",
          "turn_left",
          "turn_right"
         ],
         "y": [
          230,
          6,
          3402,
          74,
          48,
          220,
          225,
          66,
          27,
          726,
          363,
          189,
          168
         ],
         "type": "bar"
        },
        {
         "name": "Test data",
         "x": [
          "acceleration_from_standing",
          "acceleration_lane",
          "continuous_driving",
          "crossing_roundabout",
          "curve_left",
          "curve_right",
          "deceleration_lane",
          "overtaking",
          "stationary",
          "targeted_braking",
          "turn_left",
          "turn_right"
         ],
         "y": [
          83,
          6,
          620,
          27,
          48,
          61,
          8,
          5,
          266,
          134,
          49,
          21
         ],
         "type": "bar"
        }
       ],
       "layout": {
        "template": {
         "data": {
          "histogram2dcontour": [
           {
            "type": "histogram2dcontour",
            "colorbar": {
             "outlinewidth": 0,
             "ticks": ""
            },
            "colorscale": [
             [
              0.0,
              "#0d0887"
             ],
             [
              0.1111111111111111,
              "#46039f"
             ],
             [
              0.2222222222222222,
              "#7201a8"
             ],
             [
              0.3333333333333333,
              "#9c179e"
             ],
             [
              0.4444444444444444,
              "#bd3786"
             ],
             [
              0.5555555555555556,
              "#d8576b"
             ],
             [
              0.6666666666666666,
              "#ed7953"
             ],
             [
              0.7777777777777778,
              "#fb9f3a"
             ],
             [
              0.8888888888888888,
              "#fdca26"
             ],
             [
              1.0,
              "#f0f921"
             ]
            ]
           }
          ],
          "choropleth": [
           {
            "type": "choropleth",
            "colorbar": {
             "outlinewidth": 0,
             "ticks": ""
            }
           }
          ],
          "histogram2d": [
           {
            "type": "histogram2d",
            "colorbar": {
             "outlinewidth": 0,
             "ticks": ""
            },
            "colorscale": [
             [
              0.0,
              "#0d0887"
             ],
             [
              0.1111111111111111,
              "#46039f"
             ],
             [
              0.2222222222222222,
              "#7201a8"
             ],
             [
              0.3333333333333333,
              "#9c179e"
             ],
             [
              0.4444444444444444,
              "#bd3786"
             ],
             [
              0.5555555555555556,
              "#d8576b"
             ],
             [
              0.6666666666666666,
              "#ed7953"
             ],
             [
              0.7777777777777778,
              "#fb9f3a"
             ],
             [
              0.8888888888888888,
              "#fdca26"
             ],
             [
              1.0,
              "#f0f921"
             ]
            ]
           }
          ],
          "heatmap": [
           {
            "type": "heatmap",
            "colorbar": {
             "outlinewidth": 0,
             "ticks": ""
            },
            "colorscale": [
             [
              0.0,
              "#0d0887"
             ],
             [
              0.1111111111111111,
              "#46039f"
             ],
             [
              0.2222222222222222,
              "#7201a8"
             ],
             [
              0.3333333333333333,
              "#9c179e"
             ],
             [
              0.4444444444444444,
              "#bd3786"
             ],
             [
              0.5555555555555556,
              "#d8576b"
             ],
             [
              0.6666666666666666,
              "#ed7953"
             ],
             [
              0.7777777777777778,
              "#fb9f3a"
             ],
             [
              0.8888888888888888,
              "#fdca26"
             ],
             [
              1.0,
              "#f0f921"
             ]
            ]
           }
          ],
          "heatmapgl": [
           {
            "type": "heatmapgl",
            "colorbar": {
             "outlinewidth": 0,
             "ticks": ""
            },
            "colorscale": [
             [
              0.0,
              "#0d0887"
             ],
             [
              0.1111111111111111,
              "#46039f"
             ],
             [
              0.2222222222222222,
              "#7201a8"
             ],
             [
              0.3333333333333333,
              "#9c179e"
             ],
             [
              0.4444444444444444,
              "#bd3786"
             ],
             [
              0.5555555555555556,
              "#d8576b"
             ],
             [
              0.6666666666666666,
              "#ed7953"
             ],
             [
              0.7777777777777778,
              "#fb9f3a"
             ],
             [
              0.8888888888888888,
              "#fdca26"
             ],
             [
              1.0,
              "#f0f921"
             ]
            ]
           }
          ],
          "contourcarpet": [
           {
            "type": "contourcarpet",
            "colorbar": {
             "outlinewidth": 0,
             "ticks": ""
            }
           }
          ],
          "contour": [
           {
            "type": "contour",
            "colorbar": {
             "outlinewidth": 0,
             "ticks": ""
            },
            "colorscale": [
             [
              0.0,
              "#0d0887"
             ],
             [
              0.1111111111111111,
              "#46039f"
             ],
             [
              0.2222222222222222,
              "#7201a8"
             ],
             [
              0.3333333333333333,
              "#9c179e"
             ],
             [
              0.4444444444444444,
              "#bd3786"
             ],
             [
              0.5555555555555556,
              "#d8576b"
             ],
             [
              0.6666666666666666,
              "#ed7953"
             ],
             [
              0.7777777777777778,
              "#fb9f3a"
             ],
             [
              0.8888888888888888,
              "#fdca26"
             ],
             [
              1.0,
              "#f0f921"
             ]
            ]
           }
          ],
          "surface": [
           {
            "type": "surface",
            "colorbar": {
             "outlinewidth": 0,
             "ticks": ""
            },
            "colorscale": [
             [
              0.0,
              "#0d0887"
             ],
             [
              0.1111111111111111,
              "#46039f"
             ],
             [
              0.2222222222222222,
              "#7201a8"
             ],
             [
              0.3333333333333333,
              "#9c179e"
             ],
             [
              0.4444444444444444,
              "#bd3786"
             ],
             [
              0.5555555555555556,
              "#d8576b"
             ],
             [
              0.6666666666666666,
              "#ed7953"
             ],
             [
              0.7777777777777778,
              "#fb9f3a"
             ],
             [
              0.8888888888888888,
              "#fdca26"
             ],
             [
              1.0,
              "#f0f921"
             ]
            ]
           }
          ],
          "mesh3d": [
           {
            "type": "mesh3d",
            "colorbar": {
             "outlinewidth": 0,
             "ticks": ""
            }
           }
          ],
          "scatter": [
           {
            "marker": {
             "line": {
              "color": "#283442"
             }
            },
            "type": "scatter"
           }
          ],
          "parcoords": [
           {
            "type": "parcoords",
            "line": {
             "colorbar": {
              "outlinewidth": 0,
              "ticks": ""
             }
            }
           }
          ],
          "scatterpolargl": [
           {
            "type": "scatterpolargl",
            "marker": {
             "colorbar": {
              "outlinewidth": 0,
              "ticks": ""
             }
            }
           }
          ],
          "bar": [
           {
            "error_x": {
             "color": "#f2f5fa"
            },
            "error_y": {
             "color": "#f2f5fa"
            },
            "marker": {
             "line": {
              "color": "rgb(17,17,17)",
              "width": 0.5
             },
             "pattern": {
              "fillmode": "overlay",
              "size": 10,
              "solidity": 0.2
             }
            },
            "type": "bar"
           }
          ],
          "scattergeo": [
           {
            "type": "scattergeo",
            "marker": {
             "colorbar": {
              "outlinewidth": 0,
              "ticks": ""
             }
            }
           }
          ],
          "scatterpolar": [
           {
            "type": "scatterpolar",
            "marker": {
             "colorbar": {
              "outlinewidth": 0,
              "ticks": ""
             }
            }
           }
          ],
          "histogram": [
           {
            "marker": {
             "pattern": {
              "fillmode": "overlay",
              "size": 10,
              "solidity": 0.2
             }
            },
            "type": "histogram"
           }
          ],
          "scattergl": [
           {
            "marker": {
             "line": {
              "color": "#283442"
             }
            },
            "type": "scattergl"
           }
          ],
          "scatter3d": [
           {
            "type": "scatter3d",
            "line": {
             "colorbar": {
              "outlinewidth": 0,
              "ticks": ""
             }
            },
            "marker": {
             "colorbar": {
              "outlinewidth": 0,
              "ticks": ""
             }
            }
           }
          ],
          "scattermapbox": [
           {
            "type": "scattermapbox",
            "marker": {
             "colorbar": {
              "outlinewidth": 0,
              "ticks": ""
             }
            }
           }
          ],
          "scatterternary": [
           {
            "type": "scatterternary",
            "marker": {
             "colorbar": {
              "outlinewidth": 0,
              "ticks": ""
             }
            }
           }
          ],
          "scattercarpet": [
           {
            "type": "scattercarpet",
            "marker": {
             "colorbar": {
              "outlinewidth": 0,
              "ticks": ""
             }
            }
           }
          ],
          "carpet": [
           {
            "aaxis": {
             "endlinecolor": "#A2B1C6",
             "gridcolor": "#506784",
             "linecolor": "#506784",
             "minorgridcolor": "#506784",
             "startlinecolor": "#A2B1C6"
            },
            "baxis": {
             "endlinecolor": "#A2B1C6",
             "gridcolor": "#506784",
             "linecolor": "#506784",
             "minorgridcolor": "#506784",
             "startlinecolor": "#A2B1C6"
            },
            "type": "carpet"
           }
          ],
          "table": [
           {
            "cells": {
             "fill": {
              "color": "#506784"
             },
             "line": {
              "color": "rgb(17,17,17)"
             }
            },
            "header": {
             "fill": {
              "color": "#2a3f5f"
             },
             "line": {
              "color": "rgb(17,17,17)"
             }
            },
            "type": "table"
           }
          ],
          "barpolar": [
           {
            "marker": {
             "line": {
              "color": "rgb(17,17,17)",
              "width": 0.5
             },
             "pattern": {
              "fillmode": "overlay",
              "size": 10,
              "solidity": 0.2
             }
            },
            "type": "barpolar"
           }
          ],
          "pie": [
           {
            "automargin": true,
            "type": "pie"
           }
          ]
         },
         "layout": {
          "autotypenumbers": "strict",
          "colorway": [
           "#636efa",
           "#EF553B",
           "#00cc96",
           "#ab63fa",
           "#FFA15A",
           "#19d3f3",
           "#FF6692",
           "#B6E880",
           "#FF97FF",
           "#FECB52"
          ],
          "font": {
           "color": "#f2f5fa"
          },
          "hovermode": "closest",
          "hoverlabel": {
           "align": "left"
          },
          "paper_bgcolor": "rgb(17,17,17)",
          "plot_bgcolor": "rgb(17,17,17)",
          "polar": {
           "bgcolor": "rgb(17,17,17)",
           "angularaxis": {
            "gridcolor": "#506784",
            "linecolor": "#506784",
            "ticks": ""
           },
           "radialaxis": {
            "gridcolor": "#506784",
            "linecolor": "#506784",
            "ticks": ""
           }
          },
          "ternary": {
           "bgcolor": "rgb(17,17,17)",
           "aaxis": {
            "gridcolor": "#506784",
            "linecolor": "#506784",
            "ticks": ""
           },
           "baxis": {
            "gridcolor": "#506784",
            "linecolor": "#506784",
            "ticks": ""
           },
           "caxis": {
            "gridcolor": "#506784",
            "linecolor": "#506784",
            "ticks": ""
           }
          },
          "coloraxis": {
           "colorbar": {
            "outlinewidth": 0,
            "ticks": ""
           }
          },
          "colorscale": {
           "sequential": [
            [
             0.0,
             "#0d0887"
            ],
            [
             0.1111111111111111,
             "#46039f"
            ],
            [
             0.2222222222222222,
             "#7201a8"
            ],
            [
             0.3333333333333333,
             "#9c179e"
            ],
            [
             0.4444444444444444,
             "#bd3786"
            ],
            [
             0.5555555555555556,
             "#d8576b"
            ],
            [
             0.6666666666666666,
             "#ed7953"
            ],
            [
             0.7777777777777778,
             "#fb9f3a"
            ],
            [
             0.8888888888888888,
             "#fdca26"
            ],
            [
             1.0,
             "#f0f921"
            ]
           ],
           "sequentialminus": [
            [
             0.0,
             "#0d0887"
            ],
            [
             0.1111111111111111,
             "#46039f"
            ],
            [
             0.2222222222222222,
             "#7201a8"
            ],
            [
             0.3333333333333333,
             "#9c179e"
            ],
            [
             0.4444444444444444,
             "#bd3786"
            ],
            [
             0.5555555555555556,
             "#d8576b"
            ],
            [
             0.6666666666666666,
             "#ed7953"
            ],
            [
             0.7777777777777778,
             "#fb9f3a"
            ],
            [
             0.8888888888888888,
             "#fdca26"
            ],
            [
             1.0,
             "#f0f921"
            ]
           ],
           "diverging": [
            [
             0,
             "#8e0152"
            ],
            [
             0.1,
             "#c51b7d"
            ],
            [
             0.2,
             "#de77ae"
            ],
            [
             0.3,
             "#f1b6da"
            ],
            [
             0.4,
             "#fde0ef"
            ],
            [
             0.5,
             "#f7f7f7"
            ],
            [
             0.6,
             "#e6f5d0"
            ],
            [
             0.7,
             "#b8e186"
            ],
            [
             0.8,
             "#7fbc41"
            ],
            [
             0.9,
             "#4d9221"
            ],
            [
             1,
             "#276419"
            ]
           ]
          },
          "xaxis": {
           "gridcolor": "#283442",
           "linecolor": "#506784",
           "ticks": "",
           "title": {
            "standoff": 15
           },
           "zerolinecolor": "#283442",
           "automargin": true,
           "zerolinewidth": 2
          },
          "yaxis": {
           "gridcolor": "#283442",
           "linecolor": "#506784",
           "ticks": "",
           "title": {
            "standoff": 15
           },
           "zerolinecolor": "#283442",
           "automargin": true,
           "zerolinewidth": 2
          },
          "scene": {
           "xaxis": {
            "backgroundcolor": "rgb(17,17,17)",
            "gridcolor": "#506784",
            "linecolor": "#506784",
            "showbackground": true,
            "ticks": "",
            "zerolinecolor": "#C8D4E3",
            "gridwidth": 2
           },
           "yaxis": {
            "backgroundcolor": "rgb(17,17,17)",
            "gridcolor": "#506784",
            "linecolor": "#506784",
            "showbackground": true,
            "ticks": "",
            "zerolinecolor": "#C8D4E3",
            "gridwidth": 2
           },
           "zaxis": {
            "backgroundcolor": "rgb(17,17,17)",
            "gridcolor": "#506784",
            "linecolor": "#506784",
            "showbackground": true,
            "ticks": "",
            "zerolinecolor": "#C8D4E3",
            "gridwidth": 2
           }
          },
          "shapedefaults": {
           "line": {
            "color": "#f2f5fa"
           }
          },
          "annotationdefaults": {
           "arrowcolor": "#f2f5fa",
           "arrowhead": 0,
           "arrowwidth": 1
          },
          "geo": {
           "bgcolor": "rgb(17,17,17)",
           "landcolor": "rgb(17,17,17)",
           "subunitcolor": "#506784",
           "showland": true,
           "showlakes": true,
           "lakecolor": "rgb(17,17,17)"
          },
          "title": {
           "x": 0.05
          },
          "updatemenudefaults": {
           "bgcolor": "#506784",
           "borderwidth": 0
          },
          "sliderdefaults": {
           "bgcolor": "#C8D4E3",
           "borderwidth": 1,
           "bordercolor": "rgb(17,17,17)",
           "tickwidth": 0
          },
          "mapbox": {
           "style": "dark"
          }
         }
        },
        "xaxis": {
         "title": {
          "text": "maneuver"
         }
        },
        "yaxis": {
         "title": {
          "text": "Amount"
         }
        },
        "barmode": "stack",
        "title": {
         "text": "Amount of windows per maneuver type in the train and test data"
        }
       },
       "config": {
        "plotlyServerURL": "https://plot.ly"
       }
      },
      "text/html": "<div>                            <div id=\"517cab09-382c-40c0-960d-fcca89b51aab\" class=\"plotly-graph-div\" style=\"height:525px; width:100%;\"></div>            <script type=\"text/javascript\">                require([\"plotly\"], function(Plotly) {                    window.PLOTLYENV=window.PLOTLYENV || {};                                    if (document.getElementById(\"517cab09-382c-40c0-960d-fcca89b51aab\")) {                    Plotly.newPlot(                        \"517cab09-382c-40c0-960d-fcca89b51aab\",                        [{\"name\":\"Training data\",\"x\":[\"acceleration_from_standing\",\"acceleration_lane\",\"continuous_driving\",\"crossing_intersection\",\"crossing_roundabout\",\"curve_left\",\"curve_right\",\"deceleration_lane\",\"overtaking\",\"stationary\",\"targeted_braking\",\"turn_left\",\"turn_right\"],\"y\":[230,6,3402,74,48,220,225,66,27,726,363,189,168],\"type\":\"bar\"},{\"name\":\"Test data\",\"x\":[\"acceleration_from_standing\",\"acceleration_lane\",\"continuous_driving\",\"crossing_roundabout\",\"curve_left\",\"curve_right\",\"deceleration_lane\",\"overtaking\",\"stationary\",\"targeted_braking\",\"turn_left\",\"turn_right\"],\"y\":[83,6,620,27,48,61,8,5,266,134,49,21],\"type\":\"bar\"}],                        {\"template\":{\"data\":{\"histogram2dcontour\":[{\"type\":\"histogram2dcontour\",\"colorbar\":{\"outlinewidth\":0,\"ticks\":\"\"},\"colorscale\":[[0.0,\"#0d0887\"],[0.1111111111111111,\"#46039f\"],[0.2222222222222222,\"#7201a8\"],[0.3333333333333333,\"#9c179e\"],[0.4444444444444444,\"#bd3786\"],[0.5555555555555556,\"#d8576b\"],[0.6666666666666666,\"#ed7953\"],[0.7777777777777778,\"#fb9f3a\"],[0.8888888888888888,\"#fdca26\"],[1.0,\"#f0f921\"]]}],\"choropleth\":[{\"type\":\"choropleth\",\"colorbar\":{\"outlinewidth\":0,\"ticks\":\"\"}}],\"histogram2d\":[{\"type\":\"histogram2d\",\"colorbar\":{\"outlinewidth\":0,\"ticks\":\"\"},\"colorscale\":[[0.0,\"#0d0887\"],[0.1111111111111111,\"#46039f\"],[0.2222222222222222,\"#7201a8\"],[0.3333333333333333,\"#9c179e\"],[0.4444444444444444,\"#bd3786\"],[0.5555555555555556,\"#d8576b\"],[0.6666666666666666,\"#ed7953\"],[0.7777777777777778,\"#fb9f3a\"],[0.8888888888888888,\"#fdca26\"],[1.0,\"#f0f921\"]]}],\"heatmap\":[{\"type\":\"heatmap\",\"colorbar\":{\"outlinewidth\":0,\"ticks\":\"\"},\"colorscale\":[[0.0,\"#0d0887\"],[0.1111111111111111,\"#46039f\"],[0.2222222222222222,\"#7201a8\"],[0.3333333333333333,\"#9c179e\"],[0.4444444444444444,\"#bd3786\"],[0.5555555555555556,\"#d8576b\"],[0.6666666666666666,\"#ed7953\"],[0.7777777777777778,\"#fb9f3a\"],[0.8888888888888888,\"#fdca26\"],[1.0,\"#f0f921\"]]}],\"heatmapgl\":[{\"type\":\"heatmapgl\",\"colorbar\":{\"outlinewidth\":0,\"ticks\":\"\"},\"colorscale\":[[0.0,\"#0d0887\"],[0.1111111111111111,\"#46039f\"],[0.2222222222222222,\"#7201a8\"],[0.3333333333333333,\"#9c179e\"],[0.4444444444444444,\"#bd3786\"],[0.5555555555555556,\"#d8576b\"],[0.6666666666666666,\"#ed7953\"],[0.7777777777777778,\"#fb9f3a\"],[0.8888888888888888,\"#fdca26\"],[1.0,\"#f0f921\"]]}],\"contourcarpet\":[{\"type\":\"contourcarpet\",\"colorbar\":{\"outlinewidth\":0,\"ticks\":\"\"}}],\"contour\":[{\"type\":\"contour\",\"colorbar\":{\"outlinewidth\":0,\"ticks\":\"\"},\"colorscale\":[[0.0,\"#0d0887\"],[0.1111111111111111,\"#46039f\"],[0.2222222222222222,\"#7201a8\"],[0.3333333333333333,\"#9c179e\"],[0.4444444444444444,\"#bd3786\"],[0.5555555555555556,\"#d8576b\"],[0.6666666666666666,\"#ed7953\"],[0.7777777777777778,\"#fb9f3a\"],[0.8888888888888888,\"#fdca26\"],[1.0,\"#f0f921\"]]}],\"surface\":[{\"type\":\"surface\",\"colorbar\":{\"outlinewidth\":0,\"ticks\":\"\"},\"colorscale\":[[0.0,\"#0d0887\"],[0.1111111111111111,\"#46039f\"],[0.2222222222222222,\"#7201a8\"],[0.3333333333333333,\"#9c179e\"],[0.4444444444444444,\"#bd3786\"],[0.5555555555555556,\"#d8576b\"],[0.6666666666666666,\"#ed7953\"],[0.7777777777777778,\"#fb9f3a\"],[0.8888888888888888,\"#fdca26\"],[1.0,\"#f0f921\"]]}],\"mesh3d\":[{\"type\":\"mesh3d\",\"colorbar\":{\"outlinewidth\":0,\"ticks\":\"\"}}],\"scatter\":[{\"marker\":{\"line\":{\"color\":\"#283442\"}},\"type\":\"scatter\"}],\"parcoords\":[{\"type\":\"parcoords\",\"line\":{\"colorbar\":{\"outlinewidth\":0,\"ticks\":\"\"}}}],\"scatterpolargl\":[{\"type\":\"scatterpolargl\",\"marker\":{\"colorbar\":{\"outlinewidth\":0,\"ticks\":\"\"}}}],\"bar\":[{\"error_x\":{\"color\":\"#f2f5fa\"},\"error_y\":{\"color\":\"#f2f5fa\"},\"marker\":{\"line\":{\"color\":\"rgb(17,17,17)\",\"width\":0.5},\"pattern\":{\"fillmode\":\"overlay\",\"size\":10,\"solidity\":0.2}},\"type\":\"bar\"}],\"scattergeo\":[{\"type\":\"scattergeo\",\"marker\":{\"colorbar\":{\"outlinewidth\":0,\"ticks\":\"\"}}}],\"scatterpolar\":[{\"type\":\"scatterpolar\",\"marker\":{\"colorbar\":{\"outlinewidth\":0,\"ticks\":\"\"}}}],\"histogram\":[{\"marker\":{\"pattern\":{\"fillmode\":\"overlay\",\"size\":10,\"solidity\":0.2}},\"type\":\"histogram\"}],\"scattergl\":[{\"marker\":{\"line\":{\"color\":\"#283442\"}},\"type\":\"scattergl\"}],\"scatter3d\":[{\"type\":\"scatter3d\",\"line\":{\"colorbar\":{\"outlinewidth\":0,\"ticks\":\"\"}},\"marker\":{\"colorbar\":{\"outlinewidth\":0,\"ticks\":\"\"}}}],\"scattermapbox\":[{\"type\":\"scattermapbox\",\"marker\":{\"colorbar\":{\"outlinewidth\":0,\"ticks\":\"\"}}}],\"scatterternary\":[{\"type\":\"scatterternary\",\"marker\":{\"colorbar\":{\"outlinewidth\":0,\"ticks\":\"\"}}}],\"scattercarpet\":[{\"type\":\"scattercarpet\",\"marker\":{\"colorbar\":{\"outlinewidth\":0,\"ticks\":\"\"}}}],\"carpet\":[{\"aaxis\":{\"endlinecolor\":\"#A2B1C6\",\"gridcolor\":\"#506784\",\"linecolor\":\"#506784\",\"minorgridcolor\":\"#506784\",\"startlinecolor\":\"#A2B1C6\"},\"baxis\":{\"endlinecolor\":\"#A2B1C6\",\"gridcolor\":\"#506784\",\"linecolor\":\"#506784\",\"minorgridcolor\":\"#506784\",\"startlinecolor\":\"#A2B1C6\"},\"type\":\"carpet\"}],\"table\":[{\"cells\":{\"fill\":{\"color\":\"#506784\"},\"line\":{\"color\":\"rgb(17,17,17)\"}},\"header\":{\"fill\":{\"color\":\"#2a3f5f\"},\"line\":{\"color\":\"rgb(17,17,17)\"}},\"type\":\"table\"}],\"barpolar\":[{\"marker\":{\"line\":{\"color\":\"rgb(17,17,17)\",\"width\":0.5},\"pattern\":{\"fillmode\":\"overlay\",\"size\":10,\"solidity\":0.2}},\"type\":\"barpolar\"}],\"pie\":[{\"automargin\":true,\"type\":\"pie\"}]},\"layout\":{\"autotypenumbers\":\"strict\",\"colorway\":[\"#636efa\",\"#EF553B\",\"#00cc96\",\"#ab63fa\",\"#FFA15A\",\"#19d3f3\",\"#FF6692\",\"#B6E880\",\"#FF97FF\",\"#FECB52\"],\"font\":{\"color\":\"#f2f5fa\"},\"hovermode\":\"closest\",\"hoverlabel\":{\"align\":\"left\"},\"paper_bgcolor\":\"rgb(17,17,17)\",\"plot_bgcolor\":\"rgb(17,17,17)\",\"polar\":{\"bgcolor\":\"rgb(17,17,17)\",\"angularaxis\":{\"gridcolor\":\"#506784\",\"linecolor\":\"#506784\",\"ticks\":\"\"},\"radialaxis\":{\"gridcolor\":\"#506784\",\"linecolor\":\"#506784\",\"ticks\":\"\"}},\"ternary\":{\"bgcolor\":\"rgb(17,17,17)\",\"aaxis\":{\"gridcolor\":\"#506784\",\"linecolor\":\"#506784\",\"ticks\":\"\"},\"baxis\":{\"gridcolor\":\"#506784\",\"linecolor\":\"#506784\",\"ticks\":\"\"},\"caxis\":{\"gridcolor\":\"#506784\",\"linecolor\":\"#506784\",\"ticks\":\"\"}},\"coloraxis\":{\"colorbar\":{\"outlinewidth\":0,\"ticks\":\"\"}},\"colorscale\":{\"sequential\":[[0.0,\"#0d0887\"],[0.1111111111111111,\"#46039f\"],[0.2222222222222222,\"#7201a8\"],[0.3333333333333333,\"#9c179e\"],[0.4444444444444444,\"#bd3786\"],[0.5555555555555556,\"#d8576b\"],[0.6666666666666666,\"#ed7953\"],[0.7777777777777778,\"#fb9f3a\"],[0.8888888888888888,\"#fdca26\"],[1.0,\"#f0f921\"]],\"sequentialminus\":[[0.0,\"#0d0887\"],[0.1111111111111111,\"#46039f\"],[0.2222222222222222,\"#7201a8\"],[0.3333333333333333,\"#9c179e\"],[0.4444444444444444,\"#bd3786\"],[0.5555555555555556,\"#d8576b\"],[0.6666666666666666,\"#ed7953\"],[0.7777777777777778,\"#fb9f3a\"],[0.8888888888888888,\"#fdca26\"],[1.0,\"#f0f921\"]],\"diverging\":[[0,\"#8e0152\"],[0.1,\"#c51b7d\"],[0.2,\"#de77ae\"],[0.3,\"#f1b6da\"],[0.4,\"#fde0ef\"],[0.5,\"#f7f7f7\"],[0.6,\"#e6f5d0\"],[0.7,\"#b8e186\"],[0.8,\"#7fbc41\"],[0.9,\"#4d9221\"],[1,\"#276419\"]]},\"xaxis\":{\"gridcolor\":\"#283442\",\"linecolor\":\"#506784\",\"ticks\":\"\",\"title\":{\"standoff\":15},\"zerolinecolor\":\"#283442\",\"automargin\":true,\"zerolinewidth\":2},\"yaxis\":{\"gridcolor\":\"#283442\",\"linecolor\":\"#506784\",\"ticks\":\"\",\"title\":{\"standoff\":15},\"zerolinecolor\":\"#283442\",\"automargin\":true,\"zerolinewidth\":2},\"scene\":{\"xaxis\":{\"backgroundcolor\":\"rgb(17,17,17)\",\"gridcolor\":\"#506784\",\"linecolor\":\"#506784\",\"showbackground\":true,\"ticks\":\"\",\"zerolinecolor\":\"#C8D4E3\",\"gridwidth\":2},\"yaxis\":{\"backgroundcolor\":\"rgb(17,17,17)\",\"gridcolor\":\"#506784\",\"linecolor\":\"#506784\",\"showbackground\":true,\"ticks\":\"\",\"zerolinecolor\":\"#C8D4E3\",\"gridwidth\":2},\"zaxis\":{\"backgroundcolor\":\"rgb(17,17,17)\",\"gridcolor\":\"#506784\",\"linecolor\":\"#506784\",\"showbackground\":true,\"ticks\":\"\",\"zerolinecolor\":\"#C8D4E3\",\"gridwidth\":2}},\"shapedefaults\":{\"line\":{\"color\":\"#f2f5fa\"}},\"annotationdefaults\":{\"arrowcolor\":\"#f2f5fa\",\"arrowhead\":0,\"arrowwidth\":1},\"geo\":{\"bgcolor\":\"rgb(17,17,17)\",\"landcolor\":\"rgb(17,17,17)\",\"subunitcolor\":\"#506784\",\"showland\":true,\"showlakes\":true,\"lakecolor\":\"rgb(17,17,17)\"},\"title\":{\"x\":0.05},\"updatemenudefaults\":{\"bgcolor\":\"#506784\",\"borderwidth\":0},\"sliderdefaults\":{\"bgcolor\":\"#C8D4E3\",\"borderwidth\":1,\"bordercolor\":\"rgb(17,17,17)\",\"tickwidth\":0},\"mapbox\":{\"style\":\"dark\"}}},\"xaxis\":{\"title\":{\"text\":\"maneuver\"}},\"yaxis\":{\"title\":{\"text\":\"Amount\"}},\"barmode\":\"stack\",\"title\":{\"text\":\"Amount of windows per maneuver type in the train and test data\"}},                        {\"responsive\": true}                    ).then(function(){\n                            \nvar gd = document.getElementById('517cab09-382c-40c0-960d-fcca89b51aab');\nvar x = new MutationObserver(function (mutations, observer) {{\n        var display = window.getComputedStyle(gd).display;\n        if (!display || display === 'none') {{\n            console.log([gd, 'removed!']);\n            Plotly.purge(gd);\n            observer.disconnect();\n        }}\n}});\n\n// Listen for the removal of the full notebook cells\nvar notebookContainer = gd.closest('#notebook-container');\nif (notebookContainer) {{\n    x.observe(notebookContainer, {childList: true});\n}}\n\n// Listen for the clearing of the current output cell\nvar outputEl = gd.closest('.output');\nif (outputEl) {{\n    x.observe(outputEl, {childList: true});\n}}\n\n                        })                };                });            </script>        </div>"
     },
     "metadata": {},
     "output_type": "display_data"
    }
   ],
   "source": [
    "fig = go.Figure(data=[\n",
    "    go.Bar(name='Training data', x=np.unique(y_train), y=np.unique(y_train, return_counts=True)[1]),\n",
    "    go.Bar(name='Test data', x=np.unique(y_test), y=np.unique(y_test, return_counts=True)[1])\n",
    "])\n",
    "\n",
    "fig.update_layout(barmode='stack', title=\"Amount of windows per maneuver type in the train and test data\")\n",
    "fig.update_xaxes(title_text='maneuver')\n",
    "fig.update_yaxes(title_text='Amount')\n",
    "fig.show()"
   ]
  },
  {
   "cell_type": "code",
   "execution_count": 24,
   "id": "3054d0654545a9ed",
   "metadata": {
    "ExecuteTime": {
     "end_time": "2023-10-25T14:07:19.255323Z",
     "start_time": "2023-10-25T14:07:19.172192Z"
    }
   },
   "outputs": [],
   "source": [
    "drop_maneuvers = ['acceleration_lane', 'overtaking', 'deceleration_lane', 'crossing_roundabout', 'crossing_intersection']\n",
    "\n",
    "\n",
    "X_train, y_train, X_test, y_test = preprocessing.remove_maneuvers(X_train, y_train, X_test, y_test, drop_maneuvers)\n",
    "X_train, y_train, X_test, y_test = preprocessing.remove_maneuvers(X_train, y_train, X_test, y_test, \n",
    "                                                                  'continuous_driving', 0.9)\n",
    "X_train, y_train, X_test, y_test = preprocessing.remove_maneuvers(X_train, y_train, X_test, y_test, \n",
    "                                                                  'stationary', 0.8)"
   ]
  },
  {
   "cell_type": "markdown",
   "id": "d2b1e1e63ff08e28",
   "metadata": {},
   "source": [
    "Let's have another look at the amount of windows in our new training and testing partitions. There will still be slight imbalance between our maneuver classes, but now the data set is much better suited for training and testing our model and since we are dealing with real world data it is fine not to synthetically bring the data to an absolute balanced ratio.\n"
   ]
  },
  {
   "cell_type": "code",
   "execution_count": 25,
   "id": "20ee93275343fd10",
   "metadata": {
    "ExecuteTime": {
     "end_time": "2023-10-25T14:07:19.258027Z",
     "start_time": "2023-10-25T14:07:19.226118Z"
    }
   },
   "outputs": [
    {
     "data": {
      "application/vnd.plotly.v1+json": {
       "data": [
        {
         "name": "Training data",
         "text": [
          230.0,
          340.0,
          220.0,
          225.0,
          145.0,
          363.0,
          189.0,
          168.0
         ],
         "textposition": "auto",
         "x": [
          "acceleration_from_standing",
          "continuous_driving",
          "curve_left",
          "curve_right",
          "stationary",
          "targeted_braking",
          "turn_left",
          "turn_right"
         ],
         "y": [
          230,
          340,
          220,
          225,
          145,
          363,
          189,
          168
         ],
         "type": "bar"
        },
        {
         "name": "Test data",
         "text": [
          83.0,
          62.0,
          48.0,
          61.0,
          53.0,
          134.0,
          49.0,
          21.0
         ],
         "textposition": "auto",
         "x": [
          "acceleration_from_standing",
          "continuous_driving",
          "curve_left",
          "curve_right",
          "stationary",
          "targeted_braking",
          "turn_left",
          "turn_right"
         ],
         "y": [
          83,
          62,
          48,
          61,
          53,
          134,
          49,
          21
         ],
         "type": "bar"
        }
       ],
       "layout": {
        "template": {
         "data": {
          "histogram2dcontour": [
           {
            "type": "histogram2dcontour",
            "colorbar": {
             "outlinewidth": 0,
             "ticks": ""
            },
            "colorscale": [
             [
              0.0,
              "#0d0887"
             ],
             [
              0.1111111111111111,
              "#46039f"
             ],
             [
              0.2222222222222222,
              "#7201a8"
             ],
             [
              0.3333333333333333,
              "#9c179e"
             ],
             [
              0.4444444444444444,
              "#bd3786"
             ],
             [
              0.5555555555555556,
              "#d8576b"
             ],
             [
              0.6666666666666666,
              "#ed7953"
             ],
             [
              0.7777777777777778,
              "#fb9f3a"
             ],
             [
              0.8888888888888888,
              "#fdca26"
             ],
             [
              1.0,
              "#f0f921"
             ]
            ]
           }
          ],
          "choropleth": [
           {
            "type": "choropleth",
            "colorbar": {
             "outlinewidth": 0,
             "ticks": ""
            }
           }
          ],
          "histogram2d": [
           {
            "type": "histogram2d",
            "colorbar": {
             "outlinewidth": 0,
             "ticks": ""
            },
            "colorscale": [
             [
              0.0,
              "#0d0887"
             ],
             [
              0.1111111111111111,
              "#46039f"
             ],
             [
              0.2222222222222222,
              "#7201a8"
             ],
             [
              0.3333333333333333,
              "#9c179e"
             ],
             [
              0.4444444444444444,
              "#bd3786"
             ],
             [
              0.5555555555555556,
              "#d8576b"
             ],
             [
              0.6666666666666666,
              "#ed7953"
             ],
             [
              0.7777777777777778,
              "#fb9f3a"
             ],
             [
              0.8888888888888888,
              "#fdca26"
             ],
             [
              1.0,
              "#f0f921"
             ]
            ]
           }
          ],
          "heatmap": [
           {
            "type": "heatmap",
            "colorbar": {
             "outlinewidth": 0,
             "ticks": ""
            },
            "colorscale": [
             [
              0.0,
              "#0d0887"
             ],
             [
              0.1111111111111111,
              "#46039f"
             ],
             [
              0.2222222222222222,
              "#7201a8"
             ],
             [
              0.3333333333333333,
              "#9c179e"
             ],
             [
              0.4444444444444444,
              "#bd3786"
             ],
             [
              0.5555555555555556,
              "#d8576b"
             ],
             [
              0.6666666666666666,
              "#ed7953"
             ],
             [
              0.7777777777777778,
              "#fb9f3a"
             ],
             [
              0.8888888888888888,
              "#fdca26"
             ],
             [
              1.0,
              "#f0f921"
             ]
            ]
           }
          ],
          "heatmapgl": [
           {
            "type": "heatmapgl",
            "colorbar": {
             "outlinewidth": 0,
             "ticks": ""
            },
            "colorscale": [
             [
              0.0,
              "#0d0887"
             ],
             [
              0.1111111111111111,
              "#46039f"
             ],
             [
              0.2222222222222222,
              "#7201a8"
             ],
             [
              0.3333333333333333,
              "#9c179e"
             ],
             [
              0.4444444444444444,
              "#bd3786"
             ],
             [
              0.5555555555555556,
              "#d8576b"
             ],
             [
              0.6666666666666666,
              "#ed7953"
             ],
             [
              0.7777777777777778,
              "#fb9f3a"
             ],
             [
              0.8888888888888888,
              "#fdca26"
             ],
             [
              1.0,
              "#f0f921"
             ]
            ]
           }
          ],
          "contourcarpet": [
           {
            "type": "contourcarpet",
            "colorbar": {
             "outlinewidth": 0,
             "ticks": ""
            }
           }
          ],
          "contour": [
           {
            "type": "contour",
            "colorbar": {
             "outlinewidth": 0,
             "ticks": ""
            },
            "colorscale": [
             [
              0.0,
              "#0d0887"
             ],
             [
              0.1111111111111111,
              "#46039f"
             ],
             [
              0.2222222222222222,
              "#7201a8"
             ],
             [
              0.3333333333333333,
              "#9c179e"
             ],
             [
              0.4444444444444444,
              "#bd3786"
             ],
             [
              0.5555555555555556,
              "#d8576b"
             ],
             [
              0.6666666666666666,
              "#ed7953"
             ],
             [
              0.7777777777777778,
              "#fb9f3a"
             ],
             [
              0.8888888888888888,
              "#fdca26"
             ],
             [
              1.0,
              "#f0f921"
             ]
            ]
           }
          ],
          "surface": [
           {
            "type": "surface",
            "colorbar": {
             "outlinewidth": 0,
             "ticks": ""
            },
            "colorscale": [
             [
              0.0,
              "#0d0887"
             ],
             [
              0.1111111111111111,
              "#46039f"
             ],
             [
              0.2222222222222222,
              "#7201a8"
             ],
             [
              0.3333333333333333,
              "#9c179e"
             ],
             [
              0.4444444444444444,
              "#bd3786"
             ],
             [
              0.5555555555555556,
              "#d8576b"
             ],
             [
              0.6666666666666666,
              "#ed7953"
             ],
             [
              0.7777777777777778,
              "#fb9f3a"
             ],
             [
              0.8888888888888888,
              "#fdca26"
             ],
             [
              1.0,
              "#f0f921"
             ]
            ]
           }
          ],
          "mesh3d": [
           {
            "type": "mesh3d",
            "colorbar": {
             "outlinewidth": 0,
             "ticks": ""
            }
           }
          ],
          "scatter": [
           {
            "marker": {
             "line": {
              "color": "#283442"
             }
            },
            "type": "scatter"
           }
          ],
          "parcoords": [
           {
            "type": "parcoords",
            "line": {
             "colorbar": {
              "outlinewidth": 0,
              "ticks": ""
             }
            }
           }
          ],
          "scatterpolargl": [
           {
            "type": "scatterpolargl",
            "marker": {
             "colorbar": {
              "outlinewidth": 0,
              "ticks": ""
             }
            }
           }
          ],
          "bar": [
           {
            "error_x": {
             "color": "#f2f5fa"
            },
            "error_y": {
             "color": "#f2f5fa"
            },
            "marker": {
             "line": {
              "color": "rgb(17,17,17)",
              "width": 0.5
             },
             "pattern": {
              "fillmode": "overlay",
              "size": 10,
              "solidity": 0.2
             }
            },
            "type": "bar"
           }
          ],
          "scattergeo": [
           {
            "type": "scattergeo",
            "marker": {
             "colorbar": {
              "outlinewidth": 0,
              "ticks": ""
             }
            }
           }
          ],
          "scatterpolar": [
           {
            "type": "scatterpolar",
            "marker": {
             "colorbar": {
              "outlinewidth": 0,
              "ticks": ""
             }
            }
           }
          ],
          "histogram": [
           {
            "marker": {
             "pattern": {
              "fillmode": "overlay",
              "size": 10,
              "solidity": 0.2
             }
            },
            "type": "histogram"
           }
          ],
          "scattergl": [
           {
            "marker": {
             "line": {
              "color": "#283442"
             }
            },
            "type": "scattergl"
           }
          ],
          "scatter3d": [
           {
            "type": "scatter3d",
            "line": {
             "colorbar": {
              "outlinewidth": 0,
              "ticks": ""
             }
            },
            "marker": {
             "colorbar": {
              "outlinewidth": 0,
              "ticks": ""
             }
            }
           }
          ],
          "scattermapbox": [
           {
            "type": "scattermapbox",
            "marker": {
             "colorbar": {
              "outlinewidth": 0,
              "ticks": ""
             }
            }
           }
          ],
          "scatterternary": [
           {
            "type": "scatterternary",
            "marker": {
             "colorbar": {
              "outlinewidth": 0,
              "ticks": ""
             }
            }
           }
          ],
          "scattercarpet": [
           {
            "type": "scattercarpet",
            "marker": {
             "colorbar": {
              "outlinewidth": 0,
              "ticks": ""
             }
            }
           }
          ],
          "carpet": [
           {
            "aaxis": {
             "endlinecolor": "#A2B1C6",
             "gridcolor": "#506784",
             "linecolor": "#506784",
             "minorgridcolor": "#506784",
             "startlinecolor": "#A2B1C6"
            },
            "baxis": {
             "endlinecolor": "#A2B1C6",
             "gridcolor": "#506784",
             "linecolor": "#506784",
             "minorgridcolor": "#506784",
             "startlinecolor": "#A2B1C6"
            },
            "type": "carpet"
           }
          ],
          "table": [
           {
            "cells": {
             "fill": {
              "color": "#506784"
             },
             "line": {
              "color": "rgb(17,17,17)"
             }
            },
            "header": {
             "fill": {
              "color": "#2a3f5f"
             },
             "line": {
              "color": "rgb(17,17,17)"
             }
            },
            "type": "table"
           }
          ],
          "barpolar": [
           {
            "marker": {
             "line": {
              "color": "rgb(17,17,17)",
              "width": 0.5
             },
             "pattern": {
              "fillmode": "overlay",
              "size": 10,
              "solidity": 0.2
             }
            },
            "type": "barpolar"
           }
          ],
          "pie": [
           {
            "automargin": true,
            "type": "pie"
           }
          ]
         },
         "layout": {
          "autotypenumbers": "strict",
          "colorway": [
           "#636efa",
           "#EF553B",
           "#00cc96",
           "#ab63fa",
           "#FFA15A",
           "#19d3f3",
           "#FF6692",
           "#B6E880",
           "#FF97FF",
           "#FECB52"
          ],
          "font": {
           "color": "#f2f5fa"
          },
          "hovermode": "closest",
          "hoverlabel": {
           "align": "left"
          },
          "paper_bgcolor": "rgb(17,17,17)",
          "plot_bgcolor": "rgb(17,17,17)",
          "polar": {
           "bgcolor": "rgb(17,17,17)",
           "angularaxis": {
            "gridcolor": "#506784",
            "linecolor": "#506784",
            "ticks": ""
           },
           "radialaxis": {
            "gridcolor": "#506784",
            "linecolor": "#506784",
            "ticks": ""
           }
          },
          "ternary": {
           "bgcolor": "rgb(17,17,17)",
           "aaxis": {
            "gridcolor": "#506784",
            "linecolor": "#506784",
            "ticks": ""
           },
           "baxis": {
            "gridcolor": "#506784",
            "linecolor": "#506784",
            "ticks": ""
           },
           "caxis": {
            "gridcolor": "#506784",
            "linecolor": "#506784",
            "ticks": ""
           }
          },
          "coloraxis": {
           "colorbar": {
            "outlinewidth": 0,
            "ticks": ""
           }
          },
          "colorscale": {
           "sequential": [
            [
             0.0,
             "#0d0887"
            ],
            [
             0.1111111111111111,
             "#46039f"
            ],
            [
             0.2222222222222222,
             "#7201a8"
            ],
            [
             0.3333333333333333,
             "#9c179e"
            ],
            [
             0.4444444444444444,
             "#bd3786"
            ],
            [
             0.5555555555555556,
             "#d8576b"
            ],
            [
             0.6666666666666666,
             "#ed7953"
            ],
            [
             0.7777777777777778,
             "#fb9f3a"
            ],
            [
             0.8888888888888888,
             "#fdca26"
            ],
            [
             1.0,
             "#f0f921"
            ]
           ],
           "sequentialminus": [
            [
             0.0,
             "#0d0887"
            ],
            [
             0.1111111111111111,
             "#46039f"
            ],
            [
             0.2222222222222222,
             "#7201a8"
            ],
            [
             0.3333333333333333,
             "#9c179e"
            ],
            [
             0.4444444444444444,
             "#bd3786"
            ],
            [
             0.5555555555555556,
             "#d8576b"
            ],
            [
             0.6666666666666666,
             "#ed7953"
            ],
            [
             0.7777777777777778,
             "#fb9f3a"
            ],
            [
             0.8888888888888888,
             "#fdca26"
            ],
            [
             1.0,
             "#f0f921"
            ]
           ],
           "diverging": [
            [
             0,
             "#8e0152"
            ],
            [
             0.1,
             "#c51b7d"
            ],
            [
             0.2,
             "#de77ae"
            ],
            [
             0.3,
             "#f1b6da"
            ],
            [
             0.4,
             "#fde0ef"
            ],
            [
             0.5,
             "#f7f7f7"
            ],
            [
             0.6,
             "#e6f5d0"
            ],
            [
             0.7,
             "#b8e186"
            ],
            [
             0.8,
             "#7fbc41"
            ],
            [
             0.9,
             "#4d9221"
            ],
            [
             1,
             "#276419"
            ]
           ]
          },
          "xaxis": {
           "gridcolor": "#283442",
           "linecolor": "#506784",
           "ticks": "",
           "title": {
            "standoff": 15
           },
           "zerolinecolor": "#283442",
           "automargin": true,
           "zerolinewidth": 2
          },
          "yaxis": {
           "gridcolor": "#283442",
           "linecolor": "#506784",
           "ticks": "",
           "title": {
            "standoff": 15
           },
           "zerolinecolor": "#283442",
           "automargin": true,
           "zerolinewidth": 2
          },
          "scene": {
           "xaxis": {
            "backgroundcolor": "rgb(17,17,17)",
            "gridcolor": "#506784",
            "linecolor": "#506784",
            "showbackground": true,
            "ticks": "",
            "zerolinecolor": "#C8D4E3",
            "gridwidth": 2
           },
           "yaxis": {
            "backgroundcolor": "rgb(17,17,17)",
            "gridcolor": "#506784",
            "linecolor": "#506784",
            "showbackground": true,
            "ticks": "",
            "zerolinecolor": "#C8D4E3",
            "gridwidth": 2
           },
           "zaxis": {
            "backgroundcolor": "rgb(17,17,17)",
            "gridcolor": "#506784",
            "linecolor": "#506784",
            "showbackground": true,
            "ticks": "",
            "zerolinecolor": "#C8D4E3",
            "gridwidth": 2
           }
          },
          "shapedefaults": {
           "line": {
            "color": "#f2f5fa"
           }
          },
          "annotationdefaults": {
           "arrowcolor": "#f2f5fa",
           "arrowhead": 0,
           "arrowwidth": 1
          },
          "geo": {
           "bgcolor": "rgb(17,17,17)",
           "landcolor": "rgb(17,17,17)",
           "subunitcolor": "#506784",
           "showland": true,
           "showlakes": true,
           "lakecolor": "rgb(17,17,17)"
          },
          "title": {
           "x": 0.05
          },
          "updatemenudefaults": {
           "bgcolor": "#506784",
           "borderwidth": 0
          },
          "sliderdefaults": {
           "bgcolor": "#C8D4E3",
           "borderwidth": 1,
           "bordercolor": "rgb(17,17,17)",
           "tickwidth": 0
          },
          "mapbox": {
           "style": "dark"
          }
         }
        },
        "barmode": "stack",
        "title": {
         "text": "Amount of windows per maneuver type in the train and test data"
        },
        "xaxis": {
         "title": {
          "text": "maneuver"
         }
        },
        "yaxis": {
         "title": {
          "text": "Amount"
         }
        }
       },
       "config": {
        "plotlyServerURL": "https://plot.ly"
       }
      },
      "text/html": "<div>                            <div id=\"270a3cad-a413-44c3-8e96-83390cbf8463\" class=\"plotly-graph-div\" style=\"height:525px; width:100%;\"></div>            <script type=\"text/javascript\">                require([\"plotly\"], function(Plotly) {                    window.PLOTLYENV=window.PLOTLYENV || {};                                    if (document.getElementById(\"270a3cad-a413-44c3-8e96-83390cbf8463\")) {                    Plotly.newPlot(                        \"270a3cad-a413-44c3-8e96-83390cbf8463\",                        [{\"name\":\"Training data\",\"text\":[230.0,340.0,220.0,225.0,145.0,363.0,189.0,168.0],\"textposition\":\"auto\",\"x\":[\"acceleration_from_standing\",\"continuous_driving\",\"curve_left\",\"curve_right\",\"stationary\",\"targeted_braking\",\"turn_left\",\"turn_right\"],\"y\":[230,340,220,225,145,363,189,168],\"type\":\"bar\"},{\"name\":\"Test data\",\"text\":[83.0,62.0,48.0,61.0,53.0,134.0,49.0,21.0],\"textposition\":\"auto\",\"x\":[\"acceleration_from_standing\",\"continuous_driving\",\"curve_left\",\"curve_right\",\"stationary\",\"targeted_braking\",\"turn_left\",\"turn_right\"],\"y\":[83,62,48,61,53,134,49,21],\"type\":\"bar\"}],                        {\"template\":{\"data\":{\"histogram2dcontour\":[{\"type\":\"histogram2dcontour\",\"colorbar\":{\"outlinewidth\":0,\"ticks\":\"\"},\"colorscale\":[[0.0,\"#0d0887\"],[0.1111111111111111,\"#46039f\"],[0.2222222222222222,\"#7201a8\"],[0.3333333333333333,\"#9c179e\"],[0.4444444444444444,\"#bd3786\"],[0.5555555555555556,\"#d8576b\"],[0.6666666666666666,\"#ed7953\"],[0.7777777777777778,\"#fb9f3a\"],[0.8888888888888888,\"#fdca26\"],[1.0,\"#f0f921\"]]}],\"choropleth\":[{\"type\":\"choropleth\",\"colorbar\":{\"outlinewidth\":0,\"ticks\":\"\"}}],\"histogram2d\":[{\"type\":\"histogram2d\",\"colorbar\":{\"outlinewidth\":0,\"ticks\":\"\"},\"colorscale\":[[0.0,\"#0d0887\"],[0.1111111111111111,\"#46039f\"],[0.2222222222222222,\"#7201a8\"],[0.3333333333333333,\"#9c179e\"],[0.4444444444444444,\"#bd3786\"],[0.5555555555555556,\"#d8576b\"],[0.6666666666666666,\"#ed7953\"],[0.7777777777777778,\"#fb9f3a\"],[0.8888888888888888,\"#fdca26\"],[1.0,\"#f0f921\"]]}],\"heatmap\":[{\"type\":\"heatmap\",\"colorbar\":{\"outlinewidth\":0,\"ticks\":\"\"},\"colorscale\":[[0.0,\"#0d0887\"],[0.1111111111111111,\"#46039f\"],[0.2222222222222222,\"#7201a8\"],[0.3333333333333333,\"#9c179e\"],[0.4444444444444444,\"#bd3786\"],[0.5555555555555556,\"#d8576b\"],[0.6666666666666666,\"#ed7953\"],[0.7777777777777778,\"#fb9f3a\"],[0.8888888888888888,\"#fdca26\"],[1.0,\"#f0f921\"]]}],\"heatmapgl\":[{\"type\":\"heatmapgl\",\"colorbar\":{\"outlinewidth\":0,\"ticks\":\"\"},\"colorscale\":[[0.0,\"#0d0887\"],[0.1111111111111111,\"#46039f\"],[0.2222222222222222,\"#7201a8\"],[0.3333333333333333,\"#9c179e\"],[0.4444444444444444,\"#bd3786\"],[0.5555555555555556,\"#d8576b\"],[0.6666666666666666,\"#ed7953\"],[0.7777777777777778,\"#fb9f3a\"],[0.8888888888888888,\"#fdca26\"],[1.0,\"#f0f921\"]]}],\"contourcarpet\":[{\"type\":\"contourcarpet\",\"colorbar\":{\"outlinewidth\":0,\"ticks\":\"\"}}],\"contour\":[{\"type\":\"contour\",\"colorbar\":{\"outlinewidth\":0,\"ticks\":\"\"},\"colorscale\":[[0.0,\"#0d0887\"],[0.1111111111111111,\"#46039f\"],[0.2222222222222222,\"#7201a8\"],[0.3333333333333333,\"#9c179e\"],[0.4444444444444444,\"#bd3786\"],[0.5555555555555556,\"#d8576b\"],[0.6666666666666666,\"#ed7953\"],[0.7777777777777778,\"#fb9f3a\"],[0.8888888888888888,\"#fdca26\"],[1.0,\"#f0f921\"]]}],\"surface\":[{\"type\":\"surface\",\"colorbar\":{\"outlinewidth\":0,\"ticks\":\"\"},\"colorscale\":[[0.0,\"#0d0887\"],[0.1111111111111111,\"#46039f\"],[0.2222222222222222,\"#7201a8\"],[0.3333333333333333,\"#9c179e\"],[0.4444444444444444,\"#bd3786\"],[0.5555555555555556,\"#d8576b\"],[0.6666666666666666,\"#ed7953\"],[0.7777777777777778,\"#fb9f3a\"],[0.8888888888888888,\"#fdca26\"],[1.0,\"#f0f921\"]]}],\"mesh3d\":[{\"type\":\"mesh3d\",\"colorbar\":{\"outlinewidth\":0,\"ticks\":\"\"}}],\"scatter\":[{\"marker\":{\"line\":{\"color\":\"#283442\"}},\"type\":\"scatter\"}],\"parcoords\":[{\"type\":\"parcoords\",\"line\":{\"colorbar\":{\"outlinewidth\":0,\"ticks\":\"\"}}}],\"scatterpolargl\":[{\"type\":\"scatterpolargl\",\"marker\":{\"colorbar\":{\"outlinewidth\":0,\"ticks\":\"\"}}}],\"bar\":[{\"error_x\":{\"color\":\"#f2f5fa\"},\"error_y\":{\"color\":\"#f2f5fa\"},\"marker\":{\"line\":{\"color\":\"rgb(17,17,17)\",\"width\":0.5},\"pattern\":{\"fillmode\":\"overlay\",\"size\":10,\"solidity\":0.2}},\"type\":\"bar\"}],\"scattergeo\":[{\"type\":\"scattergeo\",\"marker\":{\"colorbar\":{\"outlinewidth\":0,\"ticks\":\"\"}}}],\"scatterpolar\":[{\"type\":\"scatterpolar\",\"marker\":{\"colorbar\":{\"outlinewidth\":0,\"ticks\":\"\"}}}],\"histogram\":[{\"marker\":{\"pattern\":{\"fillmode\":\"overlay\",\"size\":10,\"solidity\":0.2}},\"type\":\"histogram\"}],\"scattergl\":[{\"marker\":{\"line\":{\"color\":\"#283442\"}},\"type\":\"scattergl\"}],\"scatter3d\":[{\"type\":\"scatter3d\",\"line\":{\"colorbar\":{\"outlinewidth\":0,\"ticks\":\"\"}},\"marker\":{\"colorbar\":{\"outlinewidth\":0,\"ticks\":\"\"}}}],\"scattermapbox\":[{\"type\":\"scattermapbox\",\"marker\":{\"colorbar\":{\"outlinewidth\":0,\"ticks\":\"\"}}}],\"scatterternary\":[{\"type\":\"scatterternary\",\"marker\":{\"colorbar\":{\"outlinewidth\":0,\"ticks\":\"\"}}}],\"scattercarpet\":[{\"type\":\"scattercarpet\",\"marker\":{\"colorbar\":{\"outlinewidth\":0,\"ticks\":\"\"}}}],\"carpet\":[{\"aaxis\":{\"endlinecolor\":\"#A2B1C6\",\"gridcolor\":\"#506784\",\"linecolor\":\"#506784\",\"minorgridcolor\":\"#506784\",\"startlinecolor\":\"#A2B1C6\"},\"baxis\":{\"endlinecolor\":\"#A2B1C6\",\"gridcolor\":\"#506784\",\"linecolor\":\"#506784\",\"minorgridcolor\":\"#506784\",\"startlinecolor\":\"#A2B1C6\"},\"type\":\"carpet\"}],\"table\":[{\"cells\":{\"fill\":{\"color\":\"#506784\"},\"line\":{\"color\":\"rgb(17,17,17)\"}},\"header\":{\"fill\":{\"color\":\"#2a3f5f\"},\"line\":{\"color\":\"rgb(17,17,17)\"}},\"type\":\"table\"}],\"barpolar\":[{\"marker\":{\"line\":{\"color\":\"rgb(17,17,17)\",\"width\":0.5},\"pattern\":{\"fillmode\":\"overlay\",\"size\":10,\"solidity\":0.2}},\"type\":\"barpolar\"}],\"pie\":[{\"automargin\":true,\"type\":\"pie\"}]},\"layout\":{\"autotypenumbers\":\"strict\",\"colorway\":[\"#636efa\",\"#EF553B\",\"#00cc96\",\"#ab63fa\",\"#FFA15A\",\"#19d3f3\",\"#FF6692\",\"#B6E880\",\"#FF97FF\",\"#FECB52\"],\"font\":{\"color\":\"#f2f5fa\"},\"hovermode\":\"closest\",\"hoverlabel\":{\"align\":\"left\"},\"paper_bgcolor\":\"rgb(17,17,17)\",\"plot_bgcolor\":\"rgb(17,17,17)\",\"polar\":{\"bgcolor\":\"rgb(17,17,17)\",\"angularaxis\":{\"gridcolor\":\"#506784\",\"linecolor\":\"#506784\",\"ticks\":\"\"},\"radialaxis\":{\"gridcolor\":\"#506784\",\"linecolor\":\"#506784\",\"ticks\":\"\"}},\"ternary\":{\"bgcolor\":\"rgb(17,17,17)\",\"aaxis\":{\"gridcolor\":\"#506784\",\"linecolor\":\"#506784\",\"ticks\":\"\"},\"baxis\":{\"gridcolor\":\"#506784\",\"linecolor\":\"#506784\",\"ticks\":\"\"},\"caxis\":{\"gridcolor\":\"#506784\",\"linecolor\":\"#506784\",\"ticks\":\"\"}},\"coloraxis\":{\"colorbar\":{\"outlinewidth\":0,\"ticks\":\"\"}},\"colorscale\":{\"sequential\":[[0.0,\"#0d0887\"],[0.1111111111111111,\"#46039f\"],[0.2222222222222222,\"#7201a8\"],[0.3333333333333333,\"#9c179e\"],[0.4444444444444444,\"#bd3786\"],[0.5555555555555556,\"#d8576b\"],[0.6666666666666666,\"#ed7953\"],[0.7777777777777778,\"#fb9f3a\"],[0.8888888888888888,\"#fdca26\"],[1.0,\"#f0f921\"]],\"sequentialminus\":[[0.0,\"#0d0887\"],[0.1111111111111111,\"#46039f\"],[0.2222222222222222,\"#7201a8\"],[0.3333333333333333,\"#9c179e\"],[0.4444444444444444,\"#bd3786\"],[0.5555555555555556,\"#d8576b\"],[0.6666666666666666,\"#ed7953\"],[0.7777777777777778,\"#fb9f3a\"],[0.8888888888888888,\"#fdca26\"],[1.0,\"#f0f921\"]],\"diverging\":[[0,\"#8e0152\"],[0.1,\"#c51b7d\"],[0.2,\"#de77ae\"],[0.3,\"#f1b6da\"],[0.4,\"#fde0ef\"],[0.5,\"#f7f7f7\"],[0.6,\"#e6f5d0\"],[0.7,\"#b8e186\"],[0.8,\"#7fbc41\"],[0.9,\"#4d9221\"],[1,\"#276419\"]]},\"xaxis\":{\"gridcolor\":\"#283442\",\"linecolor\":\"#506784\",\"ticks\":\"\",\"title\":{\"standoff\":15},\"zerolinecolor\":\"#283442\",\"automargin\":true,\"zerolinewidth\":2},\"yaxis\":{\"gridcolor\":\"#283442\",\"linecolor\":\"#506784\",\"ticks\":\"\",\"title\":{\"standoff\":15},\"zerolinecolor\":\"#283442\",\"automargin\":true,\"zerolinewidth\":2},\"scene\":{\"xaxis\":{\"backgroundcolor\":\"rgb(17,17,17)\",\"gridcolor\":\"#506784\",\"linecolor\":\"#506784\",\"showbackground\":true,\"ticks\":\"\",\"zerolinecolor\":\"#C8D4E3\",\"gridwidth\":2},\"yaxis\":{\"backgroundcolor\":\"rgb(17,17,17)\",\"gridcolor\":\"#506784\",\"linecolor\":\"#506784\",\"showbackground\":true,\"ticks\":\"\",\"zerolinecolor\":\"#C8D4E3\",\"gridwidth\":2},\"zaxis\":{\"backgroundcolor\":\"rgb(17,17,17)\",\"gridcolor\":\"#506784\",\"linecolor\":\"#506784\",\"showbackground\":true,\"ticks\":\"\",\"zerolinecolor\":\"#C8D4E3\",\"gridwidth\":2}},\"shapedefaults\":{\"line\":{\"color\":\"#f2f5fa\"}},\"annotationdefaults\":{\"arrowcolor\":\"#f2f5fa\",\"arrowhead\":0,\"arrowwidth\":1},\"geo\":{\"bgcolor\":\"rgb(17,17,17)\",\"landcolor\":\"rgb(17,17,17)\",\"subunitcolor\":\"#506784\",\"showland\":true,\"showlakes\":true,\"lakecolor\":\"rgb(17,17,17)\"},\"title\":{\"x\":0.05},\"updatemenudefaults\":{\"bgcolor\":\"#506784\",\"borderwidth\":0},\"sliderdefaults\":{\"bgcolor\":\"#C8D4E3\",\"borderwidth\":1,\"bordercolor\":\"rgb(17,17,17)\",\"tickwidth\":0},\"mapbox\":{\"style\":\"dark\"}}},\"barmode\":\"stack\",\"title\":{\"text\":\"Amount of windows per maneuver type in the train and test data\"},\"xaxis\":{\"title\":{\"text\":\"maneuver\"}},\"yaxis\":{\"title\":{\"text\":\"Amount\"}}},                        {\"responsive\": true}                    ).then(function(){\n                            \nvar gd = document.getElementById('270a3cad-a413-44c3-8e96-83390cbf8463');\nvar x = new MutationObserver(function (mutations, observer) {{\n        var display = window.getComputedStyle(gd).display;\n        if (!display || display === 'none') {{\n            console.log([gd, 'removed!']);\n            Plotly.purge(gd);\n            observer.disconnect();\n        }}\n}});\n\n// Listen for the removal of the full notebook cells\nvar notebookContainer = gd.closest('#notebook-container');\nif (notebookContainer) {{\n    x.observe(notebookContainer, {childList: true});\n}}\n\n// Listen for the clearing of the current output cell\nvar outputEl = gd.closest('.output');\nif (outputEl) {{\n    x.observe(outputEl, {childList: true});\n}}\n\n                        })                };                });            </script>        </div>"
     },
     "metadata": {},
     "output_type": "display_data"
    }
   ],
   "source": [
    "fig = go.Figure(data=[\n",
    "    go.Bar(name='Training data', x=np.unique(y_train), y=np.unique(y_train, return_counts=True)[1],\n",
    "           text=np.unique(y_train, return_counts=True)[1], textposition='auto'),\n",
    "    go.Bar(name='Test data', x=np.unique(y_test), y=np.unique(y_test, return_counts=True)[1],\n",
    "           text=np.unique(y_test, return_counts=True)[1], textposition='auto')\n",
    "])\n",
    "\n",
    "fig.update_layout(barmode='stack', title=\"Amount of windows per maneuver type in the train and test data\")\n",
    "fig.update_xaxes(title_text='maneuver')\n",
    "fig.update_yaxes(title_text='Amount')\n",
    "fig.show()"
   ]
  },
  {
   "cell_type": "markdown",
   "id": "fc540486dbd0b0dd",
   "metadata": {},
   "source": [
    "#### Label encoding with preprocessing.LabelEncoding and variable transformation with preprocessing.transform_variables\n",
    "\n",
    "Now we have to create a label encoder so that we can extract the correct labels of the predictions later. The last step is to turn our training and testing data into the format of a PyTorch variable."
   ]
  },
  {
   "cell_type": "code",
   "execution_count": 26,
   "id": "3481fbc04458eb40",
   "metadata": {
    "ExecuteTime": {
     "end_time": "2023-10-25T14:07:19.284696Z",
     "start_time": "2023-10-25T14:07:19.259644Z"
    }
   },
   "outputs": [],
   "source": [
    "encoding = preprocessing.LabelEncoding(y_train, y_test)\n",
    "y_train, y_test = encoding.transform()"
   ]
  },
  {
   "cell_type": "code",
   "execution_count": 27,
   "id": "8eede8d37d18b78a",
   "metadata": {
    "ExecuteTime": {
     "end_time": "2023-10-25T14:07:19.335586Z",
     "start_time": "2023-10-25T14:07:19.271572Z"
    }
   },
   "outputs": [],
   "source": [
    "X_train, y_train, X_test, y_test = preprocessing.transform_variables(X_train, y_train, X_test, y_test)"
   ]
  },
  {
   "cell_type": "markdown",
   "id": "73ce564168803b62",
   "metadata": {},
   "source": [
    "## Modelling\n",
    "Before using the modelling module of the maneuver recognition package, we can set the device to use for training and testing our model."
   ]
  },
  {
   "cell_type": "code",
   "execution_count": 28,
   "id": "a78bc9109d7f8d19",
   "metadata": {
    "ExecuteTime": {
     "end_time": "2023-10-25T14:07:19.337175Z",
     "start_time": "2023-10-25T14:07:19.288841Z"
    }
   },
   "outputs": [
    {
     "name": "stdout",
     "output_type": "stream",
     "text": [
      "Using cpu device\n"
     ]
    }
   ],
   "source": [
    "# Get cpu or gpu device for training.\n",
    "device = \"cuda\" if torch.cuda.is_available() else \"cpu\"\n",
    "print(f\"Using {device} device\")"
   ]
  },
  {
   "cell_type": "markdown",
   "id": "2b622ec3ca0e17c9",
   "metadata": {},
   "source": [
    "#### Defining model architecture and initializing the model with modelling.ManeuverModel\n",
    "The modelling module can then be used to create and use a pytorch LSTM model. The base structure of the model is already defined and consists of a LSTM layer, two linear fully connected layers with a dropout of 0.3 and a final linear layer for multi class classification. Different configurations have been tested for this use case, but with the following parameters the architecture of the model can be configured individually:\n",
    "- hidden_size: The number of features in the hidden state.\n",
    "- lstm_layers: Number of stacked LSTM layers.\n",
    "- lstm_dropout: Rate of applied dropout in LSTM layers.\n"
   ]
  },
  {
   "cell_type": "code",
   "execution_count": 29,
   "id": "c74569367c7d766e",
   "metadata": {
    "ExecuteTime": {
     "end_time": "2023-10-25T14:07:19.337773Z",
     "start_time": "2023-10-25T14:07:19.299659Z"
    }
   },
   "outputs": [
    {
     "name": "stdout",
     "output_type": "stream",
     "text": [
      "ManeuverModel(\n",
      "  (lstm): LSTM(7, 24, num_layers=2, batch_first=True, dropout=0.7)\n",
      "  (full_layer1): Linear(in_features=24, out_features=64, bias=True)\n",
      "  (dropout): Dropout(p=0.3, inplace=False)\n",
      "  (full_layer2): Linear(in_features=64, out_features=32, bias=True)\n",
      "  (classifier): Linear(in_features=32, out_features=8, bias=True)\n",
      ")\n"
     ]
    }
   ],
   "source": [
    "from maneuver_recognition import modelling\n",
    "\n",
    "\n",
    "number_of_features = X_train.shape[2]\n",
    "number_of_classes = len(np.unique(y_train))\n",
    "hidden_size = 24\n",
    "lstm_layers = 2\n",
    "lstm_dropout = 0.7\n",
    "\n",
    "model     = modelling.ManeuverModel(number_of_features, number_of_classes, hidden_size, lstm_layers, lstm_dropout).to(device)\n",
    "\n",
    "print(model)"
   ]
  },
  {
   "cell_type": "markdown",
   "id": "266cfd088baac025",
   "metadata": {},
   "source": [
    "#### Training the model with modelling.train_maneuver_model\n",
    "\n",
    "Now we can use the function train_maneuver_model to fit the model. The function uses PyTorch's DataLoader wrapper, so we can directly input our training and testing data and define a specific batch_size. We also have to set the number of epochs and define an optimizer as well as the type of loss function to use for the training process."
   ]
  },
  {
   "cell_type": "code",
   "execution_count": 30,
   "id": "ebfb6f2be285c9ed",
   "metadata": {
    "ExecuteTime": {
     "end_time": "2023-10-25T14:07:43.508747Z",
     "start_time": "2023-10-25T14:07:19.311595Z"
    }
   },
   "outputs": [
    {
     "name": "stdout",
     "output_type": "stream",
     "text": [
      "Epoch 1\n",
      "-------------------------------\n",
      "Test Error: Accuracy: 13.1%, Avg loss: 2.055371 \n",
      "\n",
      "Epoch 2\n",
      "-------------------------------\n",
      "Test Error: Accuracy: 14.1%, Avg loss: 2.027314 \n",
      "\n",
      "Epoch 3\n",
      "-------------------------------\n",
      "Test Error: Accuracy: 30.9%, Avg loss: 1.942770 \n",
      "\n",
      "Epoch 4\n",
      "-------------------------------\n",
      "Test Error: Accuracy: 39.5%, Avg loss: 1.761708 \n",
      "\n",
      "Epoch 5\n",
      "-------------------------------\n",
      "Test Error: Accuracy: 42.5%, Avg loss: 1.598655 \n",
      "\n",
      "Epoch 6\n",
      "-------------------------------\n",
      "Test Error: Accuracy: 45.0%, Avg loss: 1.462385 \n",
      "\n",
      "Epoch 7\n",
      "-------------------------------\n",
      "Test Error: Accuracy: 46.0%, Avg loss: 1.341997 \n",
      "\n",
      "Epoch 8\n",
      "-------------------------------\n",
      "Test Error: Accuracy: 48.1%, Avg loss: 1.267486 \n",
      "\n",
      "Epoch 9\n",
      "-------------------------------\n",
      "Test Error: Accuracy: 51.7%, Avg loss: 1.213299 \n",
      "\n",
      "Epoch 10\n",
      "-------------------------------\n",
      "Test Error: Accuracy: 61.3%, Avg loss: 1.178936 \n",
      "\n",
      "Epoch 11\n",
      "-------------------------------\n",
      "Test Error: Accuracy: 61.6%, Avg loss: 1.142803 \n",
      "\n",
      "Epoch 12\n",
      "-------------------------------\n",
      "Test Error: Accuracy: 64.0%, Avg loss: 1.097242 \n",
      "\n",
      "Epoch 13\n",
      "-------------------------------\n",
      "Test Error: Accuracy: 64.4%, Avg loss: 1.062148 \n",
      "\n",
      "Epoch 14\n",
      "-------------------------------\n",
      "Test Error: Accuracy: 65.6%, Avg loss: 1.040938 \n",
      "\n",
      "Epoch 15\n",
      "-------------------------------\n",
      "Test Error: Accuracy: 66.3%, Avg loss: 1.017098 \n",
      "\n",
      "Epoch 16\n",
      "-------------------------------\n",
      "Test Error: Accuracy: 65.6%, Avg loss: 1.017823 \n",
      "\n",
      "Epoch 17\n",
      "-------------------------------\n",
      "Test Error: Accuracy: 66.9%, Avg loss: 0.960212 \n",
      "\n",
      "Epoch 18\n",
      "-------------------------------\n",
      "Test Error: Accuracy: 68.9%, Avg loss: 0.943410 \n",
      "\n",
      "Epoch 19\n",
      "-------------------------------\n",
      "Test Error: Accuracy: 69.9%, Avg loss: 0.912885 \n",
      "\n",
      "Epoch 20\n",
      "-------------------------------\n",
      "Test Error: Accuracy: 69.5%, Avg loss: 0.907409 \n",
      "\n",
      "Epoch 21\n",
      "-------------------------------\n",
      "Test Error: Accuracy: 69.1%, Avg loss: 0.937187 \n",
      "\n",
      "Epoch 22\n",
      "-------------------------------\n",
      "Test Error: Accuracy: 72.2%, Avg loss: 0.868063 \n",
      "\n",
      "Epoch 23\n",
      "-------------------------------\n",
      "Test Error: Accuracy: 72.2%, Avg loss: 0.847554 \n",
      "\n",
      "Epoch 24\n",
      "-------------------------------\n",
      "Test Error: Accuracy: 73.2%, Avg loss: 0.816830 \n",
      "\n",
      "Epoch 25\n",
      "-------------------------------\n",
      "Test Error: Accuracy: 73.4%, Avg loss: 0.796189 \n",
      "\n",
      "Epoch 26\n",
      "-------------------------------\n",
      "Test Error: Accuracy: 73.4%, Avg loss: 0.804065 \n",
      "\n",
      "Epoch 27\n",
      "-------------------------------\n",
      "Test Error: Accuracy: 74.0%, Avg loss: 0.823620 \n",
      "\n",
      "Epoch 28\n",
      "-------------------------------\n",
      "Test Error: Accuracy: 74.2%, Avg loss: 0.802103 \n",
      "\n",
      "Epoch 29\n",
      "-------------------------------\n",
      "Test Error: Accuracy: 74.2%, Avg loss: 0.792280 \n",
      "\n",
      "Epoch 30\n",
      "-------------------------------\n",
      "Test Error: Accuracy: 76.1%, Avg loss: 0.788552 \n",
      "\n",
      "Epoch 31\n",
      "-------------------------------\n",
      "Test Error: Accuracy: 75.7%, Avg loss: 0.771641 \n",
      "\n",
      "Epoch 32\n",
      "-------------------------------\n",
      "Test Error: Accuracy: 75.9%, Avg loss: 0.770319 \n",
      "\n",
      "Epoch 33\n",
      "-------------------------------\n",
      "Test Error: Accuracy: 76.1%, Avg loss: 0.766936 \n",
      "\n",
      "Epoch 34\n",
      "-------------------------------\n",
      "Test Error: Accuracy: 76.7%, Avg loss: 0.766731 \n",
      "\n",
      "Epoch 35\n",
      "-------------------------------\n",
      "Test Error: Accuracy: 76.9%, Avg loss: 0.766664 \n",
      "\n",
      "Epoch 36\n",
      "-------------------------------\n",
      "Test Error: Accuracy: 78.3%, Avg loss: 0.719174 \n",
      "\n",
      "Epoch 37\n",
      "-------------------------------\n",
      "Test Error: Accuracy: 75.1%, Avg loss: 0.811747 \n",
      "\n",
      "Epoch 38\n",
      "-------------------------------\n",
      "Test Error: Accuracy: 76.7%, Avg loss: 0.755845 \n",
      "\n",
      "Epoch 39\n",
      "-------------------------------\n",
      "Test Error: Accuracy: 77.5%, Avg loss: 0.747926 \n",
      "\n",
      "Epoch 40\n",
      "-------------------------------\n",
      "Test Error: Accuracy: 79.1%, Avg loss: 0.704394 \n",
      "\n",
      "Epoch 41\n",
      "-------------------------------\n",
      "Test Error: Accuracy: 78.9%, Avg loss: 0.738449 \n",
      "\n",
      "Epoch 42\n",
      "-------------------------------\n",
      "Test Error: Accuracy: 78.3%, Avg loss: 0.706465 \n",
      "\n",
      "Epoch 43\n",
      "-------------------------------\n",
      "Test Error: Accuracy: 78.5%, Avg loss: 0.703282 \n",
      "\n",
      "Epoch 44\n",
      "-------------------------------\n",
      "Test Error: Accuracy: 79.5%, Avg loss: 0.700111 \n",
      "\n",
      "Epoch 45\n",
      "-------------------------------\n",
      "Test Error: Accuracy: 79.6%, Avg loss: 0.696287 \n",
      "\n",
      "Epoch 46\n",
      "-------------------------------\n",
      "Test Error: Accuracy: 79.1%, Avg loss: 0.715503 \n",
      "\n",
      "Epoch 47\n",
      "-------------------------------\n",
      "Test Error: Accuracy: 79.6%, Avg loss: 0.685003 \n",
      "\n",
      "Epoch 48\n",
      "-------------------------------\n",
      "Test Error: Accuracy: 80.0%, Avg loss: 0.671901 \n",
      "\n",
      "Epoch 49\n",
      "-------------------------------\n",
      "Test Error: Accuracy: 80.6%, Avg loss: 0.687645 \n",
      "\n",
      "Epoch 50\n",
      "-------------------------------\n",
      "Test Error: Accuracy: 81.0%, Avg loss: 0.685891 \n",
      "\n",
      "Epoch 51\n",
      "-------------------------------\n",
      "Test Error: Accuracy: 80.2%, Avg loss: 0.684681 \n",
      "\n",
      "Epoch 52\n",
      "-------------------------------\n",
      "Test Error: Accuracy: 80.0%, Avg loss: 0.662754 \n",
      "\n",
      "Epoch 53\n",
      "-------------------------------\n",
      "Test Error: Accuracy: 81.6%, Avg loss: 0.658240 \n",
      "\n",
      "Epoch 54\n",
      "-------------------------------\n",
      "Test Error: Accuracy: 80.8%, Avg loss: 0.655105 \n",
      "\n",
      "Epoch 55\n",
      "-------------------------------\n",
      "Test Error: Accuracy: 80.2%, Avg loss: 0.664155 \n",
      "\n",
      "Epoch 56\n",
      "-------------------------------\n",
      "Test Error: Accuracy: 81.4%, Avg loss: 0.672580 \n",
      "\n",
      "Epoch 57\n",
      "-------------------------------\n",
      "Test Error: Accuracy: 80.4%, Avg loss: 0.661740 \n",
      "\n",
      "Epoch 58\n",
      "-------------------------------\n",
      "Test Error: Accuracy: 80.8%, Avg loss: 0.672619 \n",
      "\n",
      "Epoch 59\n",
      "-------------------------------\n",
      "Test Error: Accuracy: 80.6%, Avg loss: 0.651319 \n",
      "\n",
      "Epoch 60\n",
      "-------------------------------\n",
      "Test Error: Accuracy: 80.8%, Avg loss: 0.661413 \n",
      "\n",
      "Epoch 61\n",
      "-------------------------------\n",
      "Test Error: Accuracy: 80.6%, Avg loss: 0.677856 \n",
      "\n",
      "Epoch 62\n",
      "-------------------------------\n",
      "Test Error: Accuracy: 81.0%, Avg loss: 0.646587 \n",
      "\n",
      "Epoch 63\n",
      "-------------------------------\n",
      "Test Error: Accuracy: 81.0%, Avg loss: 0.670899 \n",
      "\n",
      "Epoch 64\n",
      "-------------------------------\n",
      "Test Error: Accuracy: 80.6%, Avg loss: 0.669852 \n",
      "\n",
      "Epoch 65\n",
      "-------------------------------\n",
      "Test Error: Accuracy: 81.4%, Avg loss: 0.665039 \n",
      "\n",
      "Epoch 66\n",
      "-------------------------------\n",
      "Test Error: Accuracy: 81.2%, Avg loss: 0.661451 \n",
      "\n",
      "Epoch 67\n",
      "-------------------------------\n",
      "Test Error: Accuracy: 81.8%, Avg loss: 0.681926 \n",
      "\n",
      "Epoch 68\n",
      "-------------------------------\n",
      "Test Error: Accuracy: 81.6%, Avg loss: 0.650882 \n",
      "\n",
      "Epoch 69\n",
      "-------------------------------\n",
      "Test Error: Accuracy: 81.8%, Avg loss: 0.660699 \n",
      "\n",
      "Epoch 70\n",
      "-------------------------------\n",
      "Test Error: Accuracy: 81.2%, Avg loss: 0.653360 \n",
      "\n",
      "Epoch 71\n",
      "-------------------------------\n",
      "Test Error: Accuracy: 80.8%, Avg loss: 0.681454 \n",
      "\n",
      "Epoch 72\n",
      "-------------------------------\n",
      "Test Error: Accuracy: 80.8%, Avg loss: 0.683803 \n",
      "\n",
      "Epoch 73\n",
      "-------------------------------\n",
      "Test Error: Accuracy: 81.2%, Avg loss: 0.687004 \n",
      "\n",
      "Epoch 74\n",
      "-------------------------------\n",
      "Test Error: Accuracy: 81.2%, Avg loss: 0.672303 \n",
      "\n",
      "Epoch 75\n",
      "-------------------------------\n",
      "Test Error: Accuracy: 82.4%, Avg loss: 0.639360 \n",
      "\n",
      "Epoch 76\n",
      "-------------------------------\n",
      "Test Error: Accuracy: 80.4%, Avg loss: 0.684184 \n",
      "\n",
      "Epoch 77\n",
      "-------------------------------\n",
      "Test Error: Accuracy: 81.2%, Avg loss: 0.673726 \n",
      "\n",
      "Epoch 78\n",
      "-------------------------------\n",
      "Test Error: Accuracy: 80.6%, Avg loss: 0.699176 \n",
      "\n",
      "Epoch 79\n",
      "-------------------------------\n",
      "Test Error: Accuracy: 81.6%, Avg loss: 0.651555 \n",
      "\n",
      "Epoch 80\n",
      "-------------------------------\n",
      "Test Error: Accuracy: 82.0%, Avg loss: 0.661565 \n",
      "\n",
      "Epoch 81\n",
      "-------------------------------\n",
      "Test Error: Accuracy: 82.2%, Avg loss: 0.646336 \n",
      "\n",
      "Epoch 82\n",
      "-------------------------------\n",
      "Test Error: Accuracy: 81.8%, Avg loss: 0.663632 \n",
      "\n",
      "Epoch 83\n",
      "-------------------------------\n",
      "Test Error: Accuracy: 81.8%, Avg loss: 0.653102 \n",
      "\n",
      "Epoch 84\n",
      "-------------------------------\n",
      "Test Error: Accuracy: 82.6%, Avg loss: 0.663209 \n",
      "\n",
      "Epoch 85\n",
      "-------------------------------\n",
      "Test Error: Accuracy: 81.2%, Avg loss: 0.682004 \n",
      "\n",
      "Epoch 86\n",
      "-------------------------------\n",
      "Test Error: Accuracy: 82.0%, Avg loss: 0.675117 \n",
      "\n",
      "Epoch 87\n",
      "-------------------------------\n",
      "Test Error: Accuracy: 82.0%, Avg loss: 0.674863 \n",
      "\n",
      "Epoch 88\n",
      "-------------------------------\n",
      "Test Error: Accuracy: 82.6%, Avg loss: 0.650075 \n",
      "\n",
      "Epoch 89\n",
      "-------------------------------\n",
      "Test Error: Accuracy: 81.6%, Avg loss: 0.676176 \n",
      "\n",
      "Epoch 90\n",
      "-------------------------------\n",
      "Test Error: Accuracy: 81.2%, Avg loss: 0.660545 \n",
      "\n",
      "Epoch 91\n",
      "-------------------------------\n",
      "Test Error: Accuracy: 82.8%, Avg loss: 0.668171 \n",
      "\n",
      "Epoch 92\n",
      "-------------------------------\n",
      "Test Error: Accuracy: 81.2%, Avg loss: 0.687147 \n",
      "\n",
      "Epoch 93\n",
      "-------------------------------\n",
      "Test Error: Accuracy: 82.0%, Avg loss: 0.678425 \n",
      "\n",
      "Epoch 94\n",
      "-------------------------------\n",
      "Test Error: Accuracy: 82.2%, Avg loss: 0.698092 \n",
      "\n",
      "Epoch 95\n",
      "-------------------------------\n",
      "Test Error: Accuracy: 81.8%, Avg loss: 0.698564 \n",
      "\n",
      "Epoch 96\n",
      "-------------------------------\n",
      "Test Error: Accuracy: 81.6%, Avg loss: 0.693010 \n",
      "\n",
      "Epoch 97\n",
      "-------------------------------\n",
      "Test Error: Accuracy: 82.0%, Avg loss: 0.663820 \n",
      "\n",
      "Epoch 98\n",
      "-------------------------------\n",
      "Test Error: Accuracy: 81.2%, Avg loss: 0.687202 \n",
      "\n",
      "Epoch 99\n",
      "-------------------------------\n",
      "Test Error: Accuracy: 81.6%, Avg loss: 0.654888 \n",
      "\n",
      "Epoch 100\n",
      "-------------------------------\n",
      "Test Error: Accuracy: 82.2%, Avg loss: 0.669477 \n",
      "\n",
      "Done!\n"
     ]
    }
   ],
   "source": [
    "optimizer = torch.optim.Adam(model.parameters(), lr=0.001)\n",
    "loss_fn   = nn.CrossEntropyLoss()\n",
    "\n",
    "loss_list, accuracy_list = modelling.train_maneuver_model(model, X_train, y_train, X_test, y_test, epochs=100,\n",
    "                                         batch_size=128, loss_function=loss_fn, optimizer=optimizer,\n",
    "                                         device=device)"
   ]
  },
  {
   "cell_type": "markdown",
   "id": "13907399530c7b55",
   "metadata": {},
   "source": [
    "## Evaluation"
   ]
  },
  {
   "cell_type": "markdown",
   "id": "6cd7ec6fa719bef",
   "metadata": {},
   "source": [
    "#### Plot validation accuracy and loss in training process with plot_training_process\n",
    "\n",
    "By examining the evolution of validation accuracy and validation loss, we can see how good our training process works and whether we tend to some kind of over- or underfitting."
   ]
  },
  {
   "cell_type": "code",
   "execution_count": 31,
   "id": "5d0031f3aac6006d",
   "metadata": {
    "ExecuteTime": {
     "end_time": "2023-10-25T14:07:43.879149Z",
     "start_time": "2023-10-25T14:07:43.505267Z"
    }
   },
   "outputs": [
    {
     "data": {
      "text/plain": "<Figure size 1200x600 with 2 Axes>",
      "image/png": "[encoded data removed]"
     },
     "metadata": {},
     "output_type": "display_data"
    }
   ],
   "source": [
    "from maneuver_recognition import evaluation\n",
    "evaluation.plot_training_process(loss_list, accuracy_list)"
   ]
  },
  {
   "cell_type": "markdown",
   "id": "83ff277990d7ac94",
   "metadata": {},
   "source": [
    "#### Evaluate model performance using a multi class correlation matrix with evaluation.confusion_heatmap\n",
    "In order to evaluate the performance of our model, we can use the function predict() from the modelling module with our test data and then compare the predicted with the actual values. This can be done by first using our already created encoding object which inherits our label_encoder. The label_encoder enables the access to the previously encoded classes and features the function inverse_transform().\n",
    "\n",
    "With these class labels and the inverse transformed y_test and y_pred data we can use the confusion_heatmap() function of the evaluation module to plot the comparison of actual and predicted values.\n",
    " \n",
    "Since we have an unbalanced multi-class use case, and the color intensity of a regular heatmap takes all fields into account, the distribution should instead be inspected row by row which can be done by setting the parameter relative to True. In this way we can inspect each class separately for the amount of correctly classified values and get a True Positive rate for every single class in the diagonal.\n"
   ]
  },
  {
   "cell_type": "code",
   "execution_count": 32,
   "id": "140ca1982301ca0",
   "metadata": {
    "ExecuteTime": {
     "end_time": "2023-10-25T14:07:44.030689Z",
     "start_time": "2023-10-25T14:07:43.875522Z"
    }
   },
   "outputs": [
    {
     "data": {
      "application/vnd.plotly.v1+json": {
       "data": [
        {
         "colorscale": [
          [
           0.0,
           "rgb(247,251,255)"
          ],
          [
           0.125,
           "rgb(222,235,247)"
          ],
          [
           0.25,
           "rgb(198,219,239)"
          ],
          [
           0.375,
           "rgb(158,202,225)"
          ],
          [
           0.5,
           "rgb(107,174,214)"
          ],
          [
           0.625,
           "rgb(66,146,198)"
          ],
          [
           0.75,
           "rgb(33,113,181)"
          ],
          [
           0.875,
           "rgb(8,81,156)"
          ],
          [
           1.0,
           "rgb(8,48,107)"
          ]
         ],
         "x": [
          "acceleration_from_standing",
          "continuous_driving",
          "curve_left",
          "curve_right",
          "stationary",
          "targeted_braking",
          "turn_left",
          "turn_right"
         ],
         "y": [
          "acceleration_from_standing",
          "continuous_driving",
          "curve_left",
          "curve_right",
          "stationary",
          "targeted_braking",
          "turn_left",
          "turn_right"
         ],
         "z": [
          [
           0.8674698795180723,
           0.03614457831325301,
           0.0,
           0.0,
           0.024096385542168676,
           0.03614457831325301,
           0.012048192771084338,
           0.024096385542168676
          ],
          [
           0.03225806451612903,
           0.7741935483870968,
           0.03225806451612903,
           0.03225806451612903,
           0.0,
           0.0967741935483871,
           0.0,
           0.03225806451612903
          ],
          [
           0.0,
           0.020833333333333332,
           0.875,
           0.020833333333333332,
           0.0,
           0.08333333333333333,
           0.0,
           0.0
          ],
          [
           0.01639344262295082,
           0.06557377049180328,
           0.03278688524590164,
           0.7540983606557377,
           0.0,
           0.01639344262295082,
           0.0,
           0.11475409836065574
          ],
          [
           0.018867924528301886,
           0.0,
           0.0,
           0.0,
           0.9056603773584906,
           0.07547169811320754,
           0.0,
           0.0
          ],
          [
           0.03731343283582089,
           0.06716417910447761,
           0.007462686567164179,
           0.007462686567164179,
           0.0,
           0.8432835820895522,
           0.014925373134328358,
           0.022388059701492536
          ],
          [
           0.20408163265306123,
           0.0,
           0.02040816326530612,
           0.0,
           0.0,
           0.061224489795918366,
           0.7142857142857143,
           0.0
          ],
          [
           0.23809523809523808,
           0.0,
           0.0,
           0.0,
           0.0,
           0.0,
           0.0,
           0.7619047619047619
          ]
         ],
         "type": "heatmap"
        }
       ],
       "layout": {
        "template": {
         "data": {
          "histogram2dcontour": [
           {
            "type": "histogram2dcontour",
            "colorbar": {
             "outlinewidth": 0,
             "ticks": ""
            },
            "colorscale": [
             [
              0.0,
              "#0d0887"
             ],
             [
              0.1111111111111111,
              "#46039f"
             ],
             [
              0.2222222222222222,
              "#7201a8"
             ],
             [
              0.3333333333333333,
              "#9c179e"
             ],
             [
              0.4444444444444444,
              "#bd3786"
             ],
             [
              0.5555555555555556,
              "#d8576b"
             ],
             [
              0.6666666666666666,
              "#ed7953"
             ],
             [
              0.7777777777777778,
              "#fb9f3a"
             ],
             [
              0.8888888888888888,
              "#fdca26"
             ],
             [
              1.0,
              "#f0f921"
             ]
            ]
           }
          ],
          "choropleth": [
           {
            "type": "choropleth",
            "colorbar": {
             "outlinewidth": 0,
             "ticks": ""
            }
           }
          ],
          "histogram2d": [
           {
            "type": "histogram2d",
            "colorbar": {
             "outlinewidth": 0,
             "ticks": ""
            },
            "colorscale": [
             [
              0.0,
              "#0d0887"
             ],
             [
              0.1111111111111111,
              "#46039f"
             ],
             [
              0.2222222222222222,
              "#7201a8"
             ],
             [
              0.3333333333333333,
              "#9c179e"
             ],
             [
              0.4444444444444444,
              "#bd3786"
             ],
             [
              0.5555555555555556,
              "#d8576b"
             ],
             [
              0.6666666666666666,
              "#ed7953"
             ],
             [
              0.7777777777777778,
              "#fb9f3a"
             ],
             [
              0.8888888888888888,
              "#fdca26"
             ],
             [
              1.0,
              "#f0f921"
             ]
            ]
           }
          ],
          "heatmap": [
           {
            "type": "heatmap",
            "colorbar": {
             "outlinewidth": 0,
             "ticks": ""
            },
            "colorscale": [
             [
              0.0,
              "#0d0887"
             ],
             [
              0.1111111111111111,
              "#46039f"
             ],
             [
              0.2222222222222222,
              "#7201a8"
             ],
             [
              0.3333333333333333,
              "#9c179e"
             ],
             [
              0.4444444444444444,
              "#bd3786"
             ],
             [
              0.5555555555555556,
              "#d8576b"
             ],
             [
              0.6666666666666666,
              "#ed7953"
             ],
             [
              0.7777777777777778,
              "#fb9f3a"
             ],
             [
              0.8888888888888888,
              "#fdca26"
             ],
             [
              1.0,
              "#f0f921"
             ]
            ]
           }
          ],
          "heatmapgl": [
           {
            "type": "heatmapgl",
            "colorbar": {
             "outlinewidth": 0,
             "ticks": ""
            },
            "colorscale": [
             [
              0.0,
              "#0d0887"
             ],
             [
              0.1111111111111111,
              "#46039f"
             ],
             [
              0.2222222222222222,
              "#7201a8"
             ],
             [
              0.3333333333333333,
              "#9c179e"
             ],
             [
              0.4444444444444444,
              "#bd3786"
             ],
             [
              0.5555555555555556,
              "#d8576b"
             ],
             [
              0.6666666666666666,
              "#ed7953"
             ],
             [
              0.7777777777777778,
              "#fb9f3a"
             ],
             [
              0.8888888888888888,
              "#fdca26"
             ],
             [
              1.0,
              "#f0f921"
             ]
            ]
           }
          ],
          "contourcarpet": [
           {
            "type": "contourcarpet",
            "colorbar": {
             "outlinewidth": 0,
             "ticks": ""
            }
           }
          ],
          "contour": [
           {
            "type": "contour",
            "colorbar": {
             "outlinewidth": 0,
             "ticks": ""
            },
            "colorscale": [
             [
              0.0,
              "#0d0887"
             ],
             [
              0.1111111111111111,
              "#46039f"
             ],
             [
              0.2222222222222222,
              "#7201a8"
             ],
             [
              0.3333333333333333,
              "#9c179e"
             ],
             [
              0.4444444444444444,
              "#bd3786"
             ],
             [
              0.5555555555555556,
              "#d8576b"
             ],
             [
              0.6666666666666666,
              "#ed7953"
             ],
             [
              0.7777777777777778,
              "#fb9f3a"
             ],
             [
              0.8888888888888888,
              "#fdca26"
             ],
             [
              1.0,
              "#f0f921"
             ]
            ]
           }
          ],
          "surface": [
           {
            "type": "surface",
            "colorbar": {
             "outlinewidth": 0,
             "ticks": ""
            },
            "colorscale": [
             [
              0.0,
              "#0d0887"
             ],
             [
              0.1111111111111111,
              "#46039f"
             ],
             [
              0.2222222222222222,
              "#7201a8"
             ],
             [
              0.3333333333333333,
              "#9c179e"
             ],
             [
              0.4444444444444444,
              "#bd3786"
             ],
             [
              0.5555555555555556,
              "#d8576b"
             ],
             [
              0.6666666666666666,
              "#ed7953"
             ],
             [
              0.7777777777777778,
              "#fb9f3a"
             ],
             [
              0.8888888888888888,
              "#fdca26"
             ],
             [
              1.0,
              "#f0f921"
             ]
            ]
           }
          ],
          "mesh3d": [
           {
            "type": "mesh3d",
            "colorbar": {
             "outlinewidth": 0,
             "ticks": ""
            }
           }
          ],
          "scatter": [
           {
            "marker": {
             "line": {
              "color": "#283442"
             }
            },
            "type": "scatter"
           }
          ],
          "parcoords": [
           {
            "type": "parcoords",
            "line": {
             "colorbar": {
              "outlinewidth": 0,
              "ticks": ""
             }
            }
           }
          ],
          "scatterpolargl": [
           {
            "type": "scatterpolargl",
            "marker": {
             "colorbar": {
              "outlinewidth": 0,
              "ticks": ""
             }
            }
           }
          ],
          "bar": [
           {
            "error_x": {
             "color": "#f2f5fa"
            },
            "error_y": {
             "color": "#f2f5fa"
            },
            "marker": {
             "line": {
              "color": "rgb(17,17,17)",
              "width": 0.5
             },
             "pattern": {
              "fillmode": "overlay",
              "size": 10,
              "solidity": 0.2
             }
            },
            "type": "bar"
           }
          ],
          "scattergeo": [
           {
            "type": "scattergeo",
            "marker": {
             "colorbar": {
              "outlinewidth": 0,
              "ticks": ""
             }
            }
           }
          ],
          "scatterpolar": [
           {
            "type": "scatterpolar",
            "marker": {
             "colorbar": {
              "outlinewidth": 0,
              "ticks": ""
             }
            }
           }
          ],
          "histogram": [
           {
            "marker": {
             "pattern": {
              "fillmode": "overlay",
              "size": 10,
              "solidity": 0.2
             }
            },
            "type": "histogram"
           }
          ],
          "scattergl": [
           {
            "marker": {
             "line": {
              "color": "#283442"
             }
            },
            "type": "scattergl"
           }
          ],
          "scatter3d": [
           {
            "type": "scatter3d",
            "line": {
             "colorbar": {
              "outlinewidth": 0,
              "ticks": ""
             }
            },
            "marker": {
             "colorbar": {
              "outlinewidth": 0,
              "ticks": ""
             }
            }
           }
          ],
          "scattermapbox": [
           {
            "type": "scattermapbox",
            "marker": {
             "colorbar": {
              "outlinewidth": 0,
              "ticks": ""
             }
            }
           }
          ],
          "scatterternary": [
           {
            "type": "scatterternary",
            "marker": {
             "colorbar": {
              "outlinewidth": 0,
              "ticks": ""
             }
            }
           }
          ],
          "scattercarpet": [
           {
            "type": "scattercarpet",
            "marker": {
             "colorbar": {
              "outlinewidth": 0,
              "ticks": ""
             }
            }
           }
          ],
          "carpet": [
           {
            "aaxis": {
             "endlinecolor": "#A2B1C6",
             "gridcolor": "#506784",
             "linecolor": "#506784",
             "minorgridcolor": "#506784",
             "startlinecolor": "#A2B1C6"
            },
            "baxis": {
             "endlinecolor": "#A2B1C6",
             "gridcolor": "#506784",
             "linecolor": "#506784",
             "minorgridcolor": "#506784",
             "startlinecolor": "#A2B1C6"
            },
            "type": "carpet"
           }
          ],
          "table": [
           {
            "cells": {
             "fill": {
              "color": "#506784"
             },
             "line": {
              "color": "rgb(17,17,17)"
             }
            },
            "header": {
             "fill": {
              "color": "#2a3f5f"
             },
             "line": {
              "color": "rgb(17,17,17)"
             }
            },
            "type": "table"
           }
          ],
          "barpolar": [
           {
            "marker": {
             "line": {
              "color": "rgb(17,17,17)",
              "width": 0.5
             },
             "pattern": {
              "fillmode": "overlay",
              "size": 10,
              "solidity": 0.2
             }
            },
            "type": "barpolar"
           }
          ],
          "pie": [
           {
            "automargin": true,
            "type": "pie"
           }
          ]
         },
         "layout": {
          "autotypenumbers": "strict",
          "colorway": [
           "#636efa",
           "#EF553B",
           "#00cc96",
           "#ab63fa",
           "#FFA15A",
           "#19d3f3",
           "#FF6692",
           "#B6E880",
           "#FF97FF",
           "#FECB52"
          ],
          "font": {
           "color": "#f2f5fa"
          },
          "hovermode": "closest",
          "hoverlabel": {
           "align": "left"
          },
          "paper_bgcolor": "rgb(17,17,17)",
          "plot_bgcolor": "rgb(17,17,17)",
          "polar": {
           "bgcolor": "rgb(17,17,17)",
           "angularaxis": {
            "gridcolor": "#506784",
            "linecolor": "#506784",
            "ticks": ""
           },
           "radialaxis": {
            "gridcolor": "#506784",
            "linecolor": "#506784",
            "ticks": ""
           }
          },
          "ternary": {
           "bgcolor": "rgb(17,17,17)",
           "aaxis": {
            "gridcolor": "#506784",
            "linecolor": "#506784",
            "ticks": ""
           },
           "baxis": {
            "gridcolor": "#506784",
            "linecolor": "#506784",
            "ticks": ""
           },
           "caxis": {
            "gridcolor": "#506784",
            "linecolor": "#506784",
            "ticks": ""
           }
          },
          "coloraxis": {
           "colorbar": {
            "outlinewidth": 0,
            "ticks": ""
           }
          },
          "colorscale": {
           "sequential": [
            [
             0.0,
             "#0d0887"
            ],
            [
             0.1111111111111111,
             "#46039f"
            ],
            [
             0.2222222222222222,
             "#7201a8"
            ],
            [
             0.3333333333333333,
             "#9c179e"
            ],
            [
             0.4444444444444444,
             "#bd3786"
            ],
            [
             0.5555555555555556,
             "#d8576b"
            ],
            [
             0.6666666666666666,
             "#ed7953"
            ],
            [
             0.7777777777777778,
             "#fb9f3a"
            ],
            [
             0.8888888888888888,
             "#fdca26"
            ],
            [
             1.0,
             "#f0f921"
            ]
           ],
           "sequentialminus": [
            [
             0.0,
             "#0d0887"
            ],
            [
             0.1111111111111111,
             "#46039f"
            ],
            [
             0.2222222222222222,
             "#7201a8"
            ],
            [
             0.3333333333333333,
             "#9c179e"
            ],
            [
             0.4444444444444444,
             "#bd3786"
            ],
            [
             0.5555555555555556,
             "#d8576b"
            ],
            [
             0.6666666666666666,
             "#ed7953"
            ],
            [
             0.7777777777777778,
             "#fb9f3a"
            ],
            [
             0.8888888888888888,
             "#fdca26"
            ],
            [
             1.0,
             "#f0f921"
            ]
           ],
           "diverging": [
            [
             0,
             "#8e0152"
            ],
            [
             0.1,
             "#c51b7d"
            ],
            [
             0.2,
             "#de77ae"
            ],
            [
             0.3,
             "#f1b6da"
            ],
            [
             0.4,
             "#fde0ef"
            ],
            [
             0.5,
             "#f7f7f7"
            ],
            [
             0.6,
             "#e6f5d0"
            ],
            [
             0.7,
             "#b8e186"
            ],
            [
             0.8,
             "#7fbc41"
            ],
            [
             0.9,
             "#4d9221"
            ],
            [
             1,
             "#276419"
            ]
           ]
          },
          "xaxis": {
           "gridcolor": "#283442",
           "linecolor": "#506784",
           "ticks": "",
           "title": {
            "standoff": 15
           },
           "zerolinecolor": "#283442",
           "automargin": true,
           "zerolinewidth": 2
          },
          "yaxis": {
           "gridcolor": "#283442",
           "linecolor": "#506784",
           "ticks": "",
           "title": {
            "standoff": 15
           },
           "zerolinecolor": "#283442",
           "automargin": true,
           "zerolinewidth": 2
          },
          "scene": {
           "xaxis": {
            "backgroundcolor": "rgb(17,17,17)",
            "gridcolor": "#506784",
            "linecolor": "#506784",
            "showbackground": true,
            "ticks": "",
            "zerolinecolor": "#C8D4E3",
            "gridwidth": 2
           },
           "yaxis": {
            "backgroundcolor": "rgb(17,17,17)",
            "gridcolor": "#506784",
            "linecolor": "#506784",
            "showbackground": true,
            "ticks": "",
            "zerolinecolor": "#C8D4E3",
            "gridwidth": 2
           },
           "zaxis": {
            "backgroundcolor": "rgb(17,17,17)",
            "gridcolor": "#506784",
            "linecolor": "#506784",
            "showbackground": true,
            "ticks": "",
            "zerolinecolor": "#C8D4E3",
            "gridwidth": 2
           }
          },
          "shapedefaults": {
           "line": {
            "color": "#f2f5fa"
           }
          },
          "annotationdefaults": {
           "arrowcolor": "#f2f5fa",
           "arrowhead": 0,
           "arrowwidth": 1
          },
          "geo": {
           "bgcolor": "rgb(17,17,17)",
           "landcolor": "rgb(17,17,17)",
           "subunitcolor": "#506784",
           "showland": true,
           "showlakes": true,
           "lakecolor": "rgb(17,17,17)"
          },
          "title": {
           "x": 0.05
          },
          "updatemenudefaults": {
           "bgcolor": "#506784",
           "borderwidth": 0
          },
          "sliderdefaults": {
           "bgcolor": "#C8D4E3",
           "borderwidth": 1,
           "bordercolor": "rgb(17,17,17)",
           "tickwidth": 0
          },
          "mapbox": {
           "style": "dark"
          }
         }
        },
        "yaxis": {
         "categoryorder": "category descending",
         "title": {
          "text": "Actual"
         }
        },
        "title": {
         "text": "Confusion Heatmap (relative values)"
        },
        "xaxis": {
         "title": {
          "text": "Predicted"
         }
        },
        "height": 900,
        "width": 900
       },
       "config": {
        "plotlyServerURL": "https://plot.ly"
       }
      },
      "text/html": "<div>                            <div id=\"14bde7a2-9bb4-4ce3-8f27-20e1b295d1ee\" class=\"plotly-graph-div\" style=\"height:900px; width:900px;\"></div>            <script type=\"text/javascript\">                require([\"plotly\"], function(Plotly) {                    window.PLOTLYENV=window.PLOTLYENV || {};                                    if (document.getElementById(\"14bde7a2-9bb4-4ce3-8f27-20e1b295d1ee\")) {                    Plotly.newPlot(                        \"14bde7a2-9bb4-4ce3-8f27-20e1b295d1ee\",                        [{\"colorscale\":[[0.0,\"rgb(247,251,255)\"],[0.125,\"rgb(222,235,247)\"],[0.25,\"rgb(198,219,239)\"],[0.375,\"rgb(158,202,225)\"],[0.5,\"rgb(107,174,214)\"],[0.625,\"rgb(66,146,198)\"],[0.75,\"rgb(33,113,181)\"],[0.875,\"rgb(8,81,156)\"],[1.0,\"rgb(8,48,107)\"]],\"x\":[\"acceleration_from_standing\",\"continuous_driving\",\"curve_left\",\"curve_right\",\"stationary\",\"targeted_braking\",\"turn_left\",\"turn_right\"],\"y\":[\"acceleration_from_standing\",\"continuous_driving\",\"curve_left\",\"curve_right\",\"stationary\",\"targeted_braking\",\"turn_left\",\"turn_right\"],\"z\":[[0.8674698795180723,0.03614457831325301,0.0,0.0,0.024096385542168676,0.03614457831325301,0.012048192771084338,0.024096385542168676],[0.03225806451612903,0.7741935483870968,0.03225806451612903,0.03225806451612903,0.0,0.0967741935483871,0.0,0.03225806451612903],[0.0,0.020833333333333332,0.875,0.020833333333333332,0.0,0.08333333333333333,0.0,0.0],[0.01639344262295082,0.06557377049180328,0.03278688524590164,0.7540983606557377,0.0,0.01639344262295082,0.0,0.11475409836065574],[0.018867924528301886,0.0,0.0,0.0,0.9056603773584906,0.07547169811320754,0.0,0.0],[0.03731343283582089,0.06716417910447761,0.007462686567164179,0.007462686567164179,0.0,0.8432835820895522,0.014925373134328358,0.022388059701492536],[0.20408163265306123,0.0,0.02040816326530612,0.0,0.0,0.061224489795918366,0.7142857142857143,0.0],[0.23809523809523808,0.0,0.0,0.0,0.0,0.0,0.0,0.7619047619047619]],\"type\":\"heatmap\"}],                        {\"template\":{\"data\":{\"histogram2dcontour\":[{\"type\":\"histogram2dcontour\",\"colorbar\":{\"outlinewidth\":0,\"ticks\":\"\"},\"colorscale\":[[0.0,\"#0d0887\"],[0.1111111111111111,\"#46039f\"],[0.2222222222222222,\"#7201a8\"],[0.3333333333333333,\"#9c179e\"],[0.4444444444444444,\"#bd3786\"],[0.5555555555555556,\"#d8576b\"],[0.6666666666666666,\"#ed7953\"],[0.7777777777777778,\"#fb9f3a\"],[0.8888888888888888,\"#fdca26\"],[1.0,\"#f0f921\"]]}],\"choropleth\":[{\"type\":\"choropleth\",\"colorbar\":{\"outlinewidth\":0,\"ticks\":\"\"}}],\"histogram2d\":[{\"type\":\"histogram2d\",\"colorbar\":{\"outlinewidth\":0,\"ticks\":\"\"},\"colorscale\":[[0.0,\"#0d0887\"],[0.1111111111111111,\"#46039f\"],[0.2222222222222222,\"#7201a8\"],[0.3333333333333333,\"#9c179e\"],[0.4444444444444444,\"#bd3786\"],[0.5555555555555556,\"#d8576b\"],[0.6666666666666666,\"#ed7953\"],[0.7777777777777778,\"#fb9f3a\"],[0.8888888888888888,\"#fdca26\"],[1.0,\"#f0f921\"]]}],\"heatmap\":[{\"type\":\"heatmap\",\"colorbar\":{\"outlinewidth\":0,\"ticks\":\"\"},\"colorscale\":[[0.0,\"#0d0887\"],[0.1111111111111111,\"#46039f\"],[0.2222222222222222,\"#7201a8\"],[0.3333333333333333,\"#9c179e\"],[0.4444444444444444,\"#bd3786\"],[0.5555555555555556,\"#d8576b\"],[0.6666666666666666,\"#ed7953\"],[0.7777777777777778,\"#fb9f3a\"],[0.8888888888888888,\"#fdca26\"],[1.0,\"#f0f921\"]]}],\"heatmapgl\":[{\"type\":\"heatmapgl\",\"colorbar\":{\"outlinewidth\":0,\"ticks\":\"\"},\"colorscale\":[[0.0,\"#0d0887\"],[0.1111111111111111,\"#46039f\"],[0.2222222222222222,\"#7201a8\"],[0.3333333333333333,\"#9c179e\"],[0.4444444444444444,\"#bd3786\"],[0.5555555555555556,\"#d8576b\"],[0.6666666666666666,\"#ed7953\"],[0.7777777777777778,\"#fb9f3a\"],[0.8888888888888888,\"#fdca26\"],[1.0,\"#f0f921\"]]}],\"contourcarpet\":[{\"type\":\"contourcarpet\",\"colorbar\":{\"outlinewidth\":0,\"ticks\":\"\"}}],\"contour\":[{\"type\":\"contour\",\"colorbar\":{\"outlinewidth\":0,\"ticks\":\"\"},\"colorscale\":[[0.0,\"#0d0887\"],[0.1111111111111111,\"#46039f\"],[0.2222222222222222,\"#7201a8\"],[0.3333333333333333,\"#9c179e\"],[0.4444444444444444,\"#bd3786\"],[0.5555555555555556,\"#d8576b\"],[0.6666666666666666,\"#ed7953\"],[0.7777777777777778,\"#fb9f3a\"],[0.8888888888888888,\"#fdca26\"],[1.0,\"#f0f921\"]]}],\"surface\":[{\"type\":\"surface\",\"colorbar\":{\"outlinewidth\":0,\"ticks\":\"\"},\"colorscale\":[[0.0,\"#0d0887\"],[0.1111111111111111,\"#46039f\"],[0.2222222222222222,\"#7201a8\"],[0.3333333333333333,\"#9c179e\"],[0.4444444444444444,\"#bd3786\"],[0.5555555555555556,\"#d8576b\"],[0.6666666666666666,\"#ed7953\"],[0.7777777777777778,\"#fb9f3a\"],[0.8888888888888888,\"#fdca26\"],[1.0,\"#f0f921\"]]}],\"mesh3d\":[{\"type\":\"mesh3d\",\"colorbar\":{\"outlinewidth\":0,\"ticks\":\"\"}}],\"scatter\":[{\"marker\":{\"line\":{\"color\":\"#283442\"}},\"type\":\"scatter\"}],\"parcoords\":[{\"type\":\"parcoords\",\"line\":{\"colorbar\":{\"outlinewidth\":0,\"ticks\":\"\"}}}],\"scatterpolargl\":[{\"type\":\"scatterpolargl\",\"marker\":{\"colorbar\":{\"outlinewidth\":0,\"ticks\":\"\"}}}],\"bar\":[{\"error_x\":{\"color\":\"#f2f5fa\"},\"error_y\":{\"color\":\"#f2f5fa\"},\"marker\":{\"line\":{\"color\":\"rgb(17,17,17)\",\"width\":0.5},\"pattern\":{\"fillmode\":\"overlay\",\"size\":10,\"solidity\":0.2}},\"type\":\"bar\"}],\"scattergeo\":[{\"type\":\"scattergeo\",\"marker\":{\"colorbar\":{\"outlinewidth\":0,\"ticks\":\"\"}}}],\"scatterpolar\":[{\"type\":\"scatterpolar\",\"marker\":{\"colorbar\":{\"outlinewidth\":0,\"ticks\":\"\"}}}],\"histogram\":[{\"marker\":{\"pattern\":{\"fillmode\":\"overlay\",\"size\":10,\"solidity\":0.2}},\"type\":\"histogram\"}],\"scattergl\":[{\"marker\":{\"line\":{\"color\":\"#283442\"}},\"type\":\"scattergl\"}],\"scatter3d\":[{\"type\":\"scatter3d\",\"line\":{\"colorbar\":{\"outlinewidth\":0,\"ticks\":\"\"}},\"marker\":{\"colorbar\":{\"outlinewidth\":0,\"ticks\":\"\"}}}],\"scattermapbox\":[{\"type\":\"scattermapbox\",\"marker\":{\"colorbar\":{\"outlinewidth\":0,\"ticks\":\"\"}}}],\"scatterternary\":[{\"type\":\"scatterternary\",\"marker\":{\"colorbar\":{\"outlinewidth\":0,\"ticks\":\"\"}}}],\"scattercarpet\":[{\"type\":\"scattercarpet\",\"marker\":{\"colorbar\":{\"outlinewidth\":0,\"ticks\":\"\"}}}],\"carpet\":[{\"aaxis\":{\"endlinecolor\":\"#A2B1C6\",\"gridcolor\":\"#506784\",\"linecolor\":\"#506784\",\"minorgridcolor\":\"#506784\",\"startlinecolor\":\"#A2B1C6\"},\"baxis\":{\"endlinecolor\":\"#A2B1C6\",\"gridcolor\":\"#506784\",\"linecolor\":\"#506784\",\"minorgridcolor\":\"#506784\",\"startlinecolor\":\"#A2B1C6\"},\"type\":\"carpet\"}],\"table\":[{\"cells\":{\"fill\":{\"color\":\"#506784\"},\"line\":{\"color\":\"rgb(17,17,17)\"}},\"header\":{\"fill\":{\"color\":\"#2a3f5f\"},\"line\":{\"color\":\"rgb(17,17,17)\"}},\"type\":\"table\"}],\"barpolar\":[{\"marker\":{\"line\":{\"color\":\"rgb(17,17,17)\",\"width\":0.5},\"pattern\":{\"fillmode\":\"overlay\",\"size\":10,\"solidity\":0.2}},\"type\":\"barpolar\"}],\"pie\":[{\"automargin\":true,\"type\":\"pie\"}]},\"layout\":{\"autotypenumbers\":\"strict\",\"colorway\":[\"#636efa\",\"#EF553B\",\"#00cc96\",\"#ab63fa\",\"#FFA15A\",\"#19d3f3\",\"#FF6692\",\"#B6E880\",\"#FF97FF\",\"#FECB52\"],\"font\":{\"color\":\"#f2f5fa\"},\"hovermode\":\"closest\",\"hoverlabel\":{\"align\":\"left\"},\"paper_bgcolor\":\"rgb(17,17,17)\",\"plot_bgcolor\":\"rgb(17,17,17)\",\"polar\":{\"bgcolor\":\"rgb(17,17,17)\",\"angularaxis\":{\"gridcolor\":\"#506784\",\"linecolor\":\"#506784\",\"ticks\":\"\"},\"radialaxis\":{\"gridcolor\":\"#506784\",\"linecolor\":\"#506784\",\"ticks\":\"\"}},\"ternary\":{\"bgcolor\":\"rgb(17,17,17)\",\"aaxis\":{\"gridcolor\":\"#506784\",\"linecolor\":\"#506784\",\"ticks\":\"\"},\"baxis\":{\"gridcolor\":\"#506784\",\"linecolor\":\"#506784\",\"ticks\":\"\"},\"caxis\":{\"gridcolor\":\"#506784\",\"linecolor\":\"#506784\",\"ticks\":\"\"}},\"coloraxis\":{\"colorbar\":{\"outlinewidth\":0,\"ticks\":\"\"}},\"colorscale\":{\"sequential\":[[0.0,\"#0d0887\"],[0.1111111111111111,\"#46039f\"],[0.2222222222222222,\"#7201a8\"],[0.3333333333333333,\"#9c179e\"],[0.4444444444444444,\"#bd3786\"],[0.5555555555555556,\"#d8576b\"],[0.6666666666666666,\"#ed7953\"],[0.7777777777777778,\"#fb9f3a\"],[0.8888888888888888,\"#fdca26\"],[1.0,\"#f0f921\"]],\"sequentialminus\":[[0.0,\"#0d0887\"],[0.1111111111111111,\"#46039f\"],[0.2222222222222222,\"#7201a8\"],[0.3333333333333333,\"#9c179e\"],[0.4444444444444444,\"#bd3786\"],[0.5555555555555556,\"#d8576b\"],[0.6666666666666666,\"#ed7953\"],[0.7777777777777778,\"#fb9f3a\"],[0.8888888888888888,\"#fdca26\"],[1.0,\"#f0f921\"]],\"diverging\":[[0,\"#8e0152\"],[0.1,\"#c51b7d\"],[0.2,\"#de77ae\"],[0.3,\"#f1b6da\"],[0.4,\"#fde0ef\"],[0.5,\"#f7f7f7\"],[0.6,\"#e6f5d0\"],[0.7,\"#b8e186\"],[0.8,\"#7fbc41\"],[0.9,\"#4d9221\"],[1,\"#276419\"]]},\"xaxis\":{\"gridcolor\":\"#283442\",\"linecolor\":\"#506784\",\"ticks\":\"\",\"title\":{\"standoff\":15},\"zerolinecolor\":\"#283442\",\"automargin\":true,\"zerolinewidth\":2},\"yaxis\":{\"gridcolor\":\"#283442\",\"linecolor\":\"#506784\",\"ticks\":\"\",\"title\":{\"standoff\":15},\"zerolinecolor\":\"#283442\",\"automargin\":true,\"zerolinewidth\":2},\"scene\":{\"xaxis\":{\"backgroundcolor\":\"rgb(17,17,17)\",\"gridcolor\":\"#506784\",\"linecolor\":\"#506784\",\"showbackground\":true,\"ticks\":\"\",\"zerolinecolor\":\"#C8D4E3\",\"gridwidth\":2},\"yaxis\":{\"backgroundcolor\":\"rgb(17,17,17)\",\"gridcolor\":\"#506784\",\"linecolor\":\"#506784\",\"showbackground\":true,\"ticks\":\"\",\"zerolinecolor\":\"#C8D4E3\",\"gridwidth\":2},\"zaxis\":{\"backgroundcolor\":\"rgb(17,17,17)\",\"gridcolor\":\"#506784\",\"linecolor\":\"#506784\",\"showbackground\":true,\"ticks\":\"\",\"zerolinecolor\":\"#C8D4E3\",\"gridwidth\":2}},\"shapedefaults\":{\"line\":{\"color\":\"#f2f5fa\"}},\"annotationdefaults\":{\"arrowcolor\":\"#f2f5fa\",\"arrowhead\":0,\"arrowwidth\":1},\"geo\":{\"bgcolor\":\"rgb(17,17,17)\",\"landcolor\":\"rgb(17,17,17)\",\"subunitcolor\":\"#506784\",\"showland\":true,\"showlakes\":true,\"lakecolor\":\"rgb(17,17,17)\"},\"title\":{\"x\":0.05},\"updatemenudefaults\":{\"bgcolor\":\"#506784\",\"borderwidth\":0},\"sliderdefaults\":{\"bgcolor\":\"#C8D4E3\",\"borderwidth\":1,\"bordercolor\":\"rgb(17,17,17)\",\"tickwidth\":0},\"mapbox\":{\"style\":\"dark\"}}},\"yaxis\":{\"categoryorder\":\"category descending\",\"title\":{\"text\":\"Actual\"}},\"title\":{\"text\":\"Confusion Heatmap (relative values)\"},\"xaxis\":{\"title\":{\"text\":\"Predicted\"}},\"height\":900,\"width\":900},                        {\"responsive\": true}                    ).then(function(){\n                            \nvar gd = document.getElementById('14bde7a2-9bb4-4ce3-8f27-20e1b295d1ee');\nvar x = new MutationObserver(function (mutations, observer) {{\n        var display = window.getComputedStyle(gd).display;\n        if (!display || display === 'none') {{\n            console.log([gd, 'removed!']);\n            Plotly.purge(gd);\n            observer.disconnect();\n        }}\n}});\n\n// Listen for the removal of the full notebook cells\nvar notebookContainer = gd.closest('#notebook-container');\nif (notebookContainer) {{\n    x.observe(notebookContainer, {childList: true});\n}}\n\n// Listen for the clearing of the current output cell\nvar outputEl = gd.closest('.output');\nif (outputEl) {{\n    x.observe(outputEl, {childList: true});\n}}\n\n                        })                };                });            </script>        </div>"
     },
     "metadata": {},
     "output_type": "display_data"
    }
   ],
   "source": [
    "y_pred = modelling.predict(X_test, model)\n",
    "\n",
    "# Inverse transform the encoded y\n",
    "y_test_inverse = encoding.label_encoder.inverse_transform(y_test)\n",
    "y_pred_inverse = encoding.label_encoder.inverse_transform(y_pred)\n",
    "classes = encoding.label_encoder.classes_\n",
    "\n",
    "fig = evaluation.confusion_heatmap(y_test, y_pred, classes, relative=True)\n",
    "fig.show()"
   ]
  },
  {
   "cell_type": "code",
   "execution_count": 32,
   "id": "815deb4ad668d92",
   "metadata": {
    "ExecuteTime": {
     "end_time": "2023-10-25T14:07:44.030943Z",
     "start_time": "2023-10-25T14:07:43.945891Z"
    }
   },
   "outputs": [],
   "source": []
  }
 ],
 "metadata": {
  "kernelspec": {
   "display_name": "Python 3 (ipykernel)",
   "language": "python",
   "name": "python3"
  },
  "language_info": {
   "codemirror_mode": {
    "name": "ipython",
    "version": 2
   },
   "file_extension": ".py",
   "mimetype": "text/x-python",
   "name": "python",
   "nbconvert_exporter": "python",
   "pygments_lexer": "ipython2",
   "version": "2.7.6"
  }
 },
 "nbformat": 4,
 "nbformat_minor": 5
}
