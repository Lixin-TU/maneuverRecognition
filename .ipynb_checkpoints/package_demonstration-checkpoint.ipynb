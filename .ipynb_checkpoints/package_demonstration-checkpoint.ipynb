{
 "cells": [
  {
   "cell_type": "code",
   "execution_count": null,
   "id": "initial_id",
   "metadata": {
    "ExecuteTime": {
     "end_time": "2023-10-20T12:12:14.337257Z",
     "start_time": "2023-10-20T12:12:14.333837Z"
    },
    "collapsed": true
   },
   "outputs": [],
   "source": []
  },
  {
   "cell_type": "markdown",
   "id": "fbb27cb94e897b93",
   "metadata": {},
   "source": [
    "# Maneuver Recognition Package\n",
    "## Example application: Real world vehicle maneuver recognition using smartphone sensors and LSTM models"
   ]
  },
  {
   "cell_type": "code",
   "execution_count": 1,
   "id": "52f60b9764ed04d2",
   "metadata": {
    "ExecuteTime": {
     "end_time": "2023-10-20T12:12:19.189383Z",
     "start_time": "2023-10-20T12:12:14.337838Z"
    }
   },
   "outputs": [],
   "source": [
    "import pandas as pd\n",
    "import numpy as np\n",
    "import plotly.graph_objs as go\n",
    "import torch\n",
    "import torch.nn as nn"
   ]
  },
  {
   "cell_type": "markdown",
   "id": "e7631d40d34bb2e1",
   "metadata": {},
   "source": [
    "### Loading the dataset\n",
    "The dataset consists of 19 variables and the recording of three different people with different vehicles. Each driving maneuver was assigned a maneuver type, the route section, and road type as well as an unique maneuver ID. The smartphone sensor data includes datetime, acceleration on and rotation around three orthogonal axes, as well as GPS information such as longitude, latitude, altitude, accuracy and speed."
   ]
  },
  {
   "cell_type": "code",
   "execution_count": 2,
   "id": "fe2e33085b226be8",
   "metadata": {
    "ExecuteTime": {
     "end_time": "2023-10-20T12:12:19.345754Z",
     "start_time": "2023-10-20T12:12:19.191964Z"
    }
   },
   "outputs": [
    {
     "data": {
      "text/html": [
       "<div>\n",
       "<style scoped>\n",
       "    .dataframe tbody tr th:only-of-type {\n",
       "        vertical-align: middle;\n",
       "    }\n",
       "\n",
       "    .dataframe tbody tr th {\n",
       "        vertical-align: top;\n",
       "    }\n",
       "\n",
       "    .dataframe thead th {\n",
       "        text-align: right;\n",
       "    }\n",
       "</style>\n",
       "<table border=\"1\" class=\"dataframe\">\n",
       "  <thead>\n",
       "    <tr style=\"text-align: right;\">\n",
       "      <th></th>\n",
       "      <th>datetime</th>\n",
       "      <th>accX</th>\n",
       "      <th>accY</th>\n",
       "      <th>accZ</th>\n",
       "      <th>gyroX</th>\n",
       "      <th>gyroY</th>\n",
       "      <th>gyroZ</th>\n",
       "      <th>latitude</th>\n",
       "      <th>longitude</th>\n",
       "      <th>altitude</th>\n",
       "      <th>accuracy</th>\n",
       "      <th>speed</th>\n",
       "      <th>maneuverID</th>\n",
       "      <th>maneuverType</th>\n",
       "      <th>maneuverElement</th>\n",
       "      <th>section</th>\n",
       "      <th>roadType</th>\n",
       "      <th>vehicle</th>\n",
       "      <th>person</th>\n",
       "    </tr>\n",
       "  </thead>\n",
       "  <tbody>\n",
       "    <tr>\n",
       "      <th>0</th>\n",
       "      <td>2023-01-06 10:44:29.466</td>\n",
       "      <td>0.021387</td>\n",
       "      <td>-0.006456</td>\n",
       "      <td>-0.084595</td>\n",
       "      <td>-0.072036</td>\n",
       "      <td>-0.009720</td>\n",
       "      <td>-0.006924</td>\n",
       "      <td>52.366269</td>\n",
       "      <td>9.761421</td>\n",
       "      <td>98.700005</td>\n",
       "      <td>11.716</td>\n",
       "      <td>0.060892</td>\n",
       "      <td>000000-P1M</td>\n",
       "      <td>stationary</td>\n",
       "      <td>stationary</td>\n",
       "      <td>1</td>\n",
       "      <td>Stadtstraße</td>\n",
       "      <td>Skoda Fabia</td>\n",
       "      <td>P01</td>\n",
       "    </tr>\n",
       "    <tr>\n",
       "      <th>1</th>\n",
       "      <td>2023-01-06 10:44:29.958</td>\n",
       "      <td>0.023271</td>\n",
       "      <td>0.100068</td>\n",
       "      <td>0.143770</td>\n",
       "      <td>0.013182</td>\n",
       "      <td>0.004794</td>\n",
       "      <td>0.000399</td>\n",
       "      <td>52.366269</td>\n",
       "      <td>9.761421</td>\n",
       "      <td>98.700005</td>\n",
       "      <td>11.716</td>\n",
       "      <td>0.060892</td>\n",
       "      <td>000000-P1M</td>\n",
       "      <td>stationary</td>\n",
       "      <td>stationary</td>\n",
       "      <td>1</td>\n",
       "      <td>Stadtstraße</td>\n",
       "      <td>Skoda Fabia</td>\n",
       "      <td>P01</td>\n",
       "    </tr>\n",
       "    <tr>\n",
       "      <th>2</th>\n",
       "      <td>2023-01-06 10:44:30.456</td>\n",
       "      <td>0.030368</td>\n",
       "      <td>-0.006946</td>\n",
       "      <td>0.019102</td>\n",
       "      <td>0.000000</td>\n",
       "      <td>-0.001997</td>\n",
       "      <td>0.001198</td>\n",
       "      <td>52.366270</td>\n",
       "      <td>9.761421</td>\n",
       "      <td>98.700005</td>\n",
       "      <td>9.591</td>\n",
       "      <td>0.035770</td>\n",
       "      <td>000000-P1M</td>\n",
       "      <td>stationary</td>\n",
       "      <td>stationary</td>\n",
       "      <td>1</td>\n",
       "      <td>Stadtstraße</td>\n",
       "      <td>Skoda Fabia</td>\n",
       "      <td>P01</td>\n",
       "    </tr>\n",
       "    <tr>\n",
       "      <th>3</th>\n",
       "      <td>2023-01-06 10:44:30.957</td>\n",
       "      <td>0.012233</td>\n",
       "      <td>-0.005673</td>\n",
       "      <td>0.002899</td>\n",
       "      <td>0.000266</td>\n",
       "      <td>0.001198</td>\n",
       "      <td>0.001065</td>\n",
       "      <td>52.366270</td>\n",
       "      <td>9.761421</td>\n",
       "      <td>98.700005</td>\n",
       "      <td>9.591</td>\n",
       "      <td>0.035770</td>\n",
       "      <td>000000-P1M</td>\n",
       "      <td>stationary</td>\n",
       "      <td>stationary</td>\n",
       "      <td>1</td>\n",
       "      <td>Stadtstraße</td>\n",
       "      <td>Skoda Fabia</td>\n",
       "      <td>P01</td>\n",
       "    </tr>\n",
       "    <tr>\n",
       "      <th>4</th>\n",
       "      <td>2023-01-06 10:44:31.456</td>\n",
       "      <td>0.017861</td>\n",
       "      <td>0.001417</td>\n",
       "      <td>0.017249</td>\n",
       "      <td>-0.001332</td>\n",
       "      <td>-0.002397</td>\n",
       "      <td>0.000399</td>\n",
       "      <td>52.366270</td>\n",
       "      <td>9.761421</td>\n",
       "      <td>98.700005</td>\n",
       "      <td>9.591</td>\n",
       "      <td>0.035770</td>\n",
       "      <td>000000-P1M</td>\n",
       "      <td>stationary</td>\n",
       "      <td>stationary</td>\n",
       "      <td>1</td>\n",
       "      <td>Stadtstraße</td>\n",
       "      <td>Skoda Fabia</td>\n",
       "      <td>P01</td>\n",
       "    </tr>\n",
       "  </tbody>\n",
       "</table>\n",
       "</div>"
      ],
      "text/plain": [
       "                  datetime      accX      accY      accZ     gyroX     gyroY  \\\n",
       "0  2023-01-06 10:44:29.466  0.021387 -0.006456 -0.084595 -0.072036 -0.009720   \n",
       "1  2023-01-06 10:44:29.958  0.023271  0.100068  0.143770  0.013182  0.004794   \n",
       "2  2023-01-06 10:44:30.456  0.030368 -0.006946  0.019102  0.000000 -0.001997   \n",
       "3  2023-01-06 10:44:30.957  0.012233 -0.005673  0.002899  0.000266  0.001198   \n",
       "4  2023-01-06 10:44:31.456  0.017861  0.001417  0.017249 -0.001332 -0.002397   \n",
       "\n",
       "      gyroZ   latitude  longitude   altitude  accuracy     speed  maneuverID  \\\n",
       "0 -0.006924  52.366269   9.761421  98.700005    11.716  0.060892  000000-P1M   \n",
       "1  0.000399  52.366269   9.761421  98.700005    11.716  0.060892  000000-P1M   \n",
       "2  0.001198  52.366270   9.761421  98.700005     9.591  0.035770  000000-P1M   \n",
       "3  0.001065  52.366270   9.761421  98.700005     9.591  0.035770  000000-P1M   \n",
       "4  0.000399  52.366270   9.761421  98.700005     9.591  0.035770  000000-P1M   \n",
       "\n",
       "  maneuverType maneuverElement  section     roadType      vehicle person  \n",
       "0   stationary      stationary        1  Stadtstraße  Skoda Fabia    P01  \n",
       "1   stationary      stationary        1  Stadtstraße  Skoda Fabia    P01  \n",
       "2   stationary      stationary        1  Stadtstraße  Skoda Fabia    P01  \n",
       "3   stationary      stationary        1  Stadtstraße  Skoda Fabia    P01  \n",
       "4   stationary      stationary        1  Stadtstraße  Skoda Fabia    P01  "
      ]
     },
     "execution_count": 2,
     "metadata": {},
     "output_type": "execute_result"
    }
   ],
   "source": [
    "df = pd.read_csv(\"data/SensorRec_data_eng.csv\")\n",
    "df.head(5)"
   ]
  },
  {
   "cell_type": "code",
   "execution_count": 3,
   "id": "40864c56e58ab9da",
   "metadata": {
    "ExecuteTime": {
     "end_time": "2023-10-20T12:12:19.367529Z",
     "start_time": "2023-10-20T12:12:19.355082Z"
    }
   },
   "outputs": [],
   "source": [
    "df_p1 = df.loc[df['person'] == 'P01', :]\n",
    "df_p2 = df.loc[df['person'] == 'P02', :]\n",
    "df_p3 = df.loc[df['person'] == 'P03', :]\n",
    "\n",
    "dataframe_list = [df_p1, df_p2, df_p3]"
   ]
  },
  {
   "cell_type": "markdown",
   "id": "e92c5089c93851a6",
   "metadata": {},
   "source": [
    "## Preprocessing"
   ]
  },
  {
   "cell_type": "markdown",
   "id": "917f83cfaaf18868",
   "metadata": {},
   "source": [
    "#### Windowing and Train-/Test-Splitting with preprocessing.timeseries_train_test_split\n",
    "\n",
    "Our goal is to create a model which can correctly identify driving maneuvers in unknown data of future driving recordings. Therefore, to train the model, we cannot simply use the individual maneuvers already assigned to their IDs, but have to use a sliding window to create training and testing cases.\n",
    "\n",
    "In order to do that, we are in need of two specific functions:\n",
    "1. A windowing function that gets our data and returns windows with a specific amount of time steps and a specific step length between those windows in the shape of (cases, timesteps, variables).\n",
    "2. A function to split the data into training and testing data before the windowing is applied. If we do not split training and testing data before using the windowing function, there will be data leakage because overlapping windows may end up in both partitions.\n",
    "\n",
    "For this purpose we can use the timeseries_train_test_split function in the preprocessing module. It first splits the given dataframe in an arbitrary number of partitions. Then it randomly selects some of these partitions in regard to our test size and removes them from a copy of the full dataframe. The remaining data will be used for training. We can also use this function to apply a robust scaling which will use the training data for fitting the scaler. The windowing function will then be applied on the training and testing partitions separately.\n",
    "\n",
    "With this approach, it can still happen occasionally that we create unnatural transitions between maneuvers that occurred before and after the partitions we cut out for the test data or that we break some maneuvers. However, the amount of it which depends on the number of splits we use will be negligible, as it is clearly more important that we have absolutely no data leakage. \n",
    "\n",
    "The following parameters can be configured:\n",
    "- splits: Number of random partitions in which data will be separated before windowing will be applied.\n",
    "- test_size: Proportion of data to use for testing.\n",
    "- time_steps: Length of windows in number of rows.\n",
    "- step_size: Steps between windows in number of rows.\n",
    "- scale: Bool whether we apply robust scaling or not.\n",
    "\n",
    "Since we have data of three different persons and to ensure that different route segments of the trips can appear in the training and test data we will apply the timeseries_train_test_split function on each individual dataset and combine the windowed data subsequently. Our windows will have a length of 20 timesteps which is 10 seconds in our dataset and we will use a stepsize of 4 timesteps which equals 2 seconds. We then merge the data, with every window seperated and already in the right shape."
   ]
  },
  {
   "cell_type": "code",
   "execution_count": null,
   "id": "e2b2b2ab0016ea0a",
   "metadata": {
    "ExecuteTime": {
     "start_time": "2023-10-20T12:12:19.369763Z"
    },
    "is_executing": true
   },
   "outputs": [],
   "source": [
    "from maneuver_recognition import preprocessing\n",
    "\n",
    "x_vars = ['accX', 'accY', 'accZ', 'gyroX', 'gyroY', 'gyroZ', 'speed']\n",
    "y_var = 'maneuverType'\n",
    "splits = 40\n",
    "test_size = 0.2\n",
    "time_steps = 20\n",
    "step_size = 4\n",
    "\n",
    "X_train, y_train, X_test, y_test = [], [], [], []\n",
    "for df in dataframe_list:\n",
    "    X_train_df, y_train_df, X_test_df, y_test_df = preprocessing.timeseries_train_test_split(df, x_variables=x_vars,\n",
    "                y_variable=y_var, splits=splits, test_size=test_size,time_steps=time_steps, step_size=step_size, scale=True)\n",
    "\n",
    "    \n",
    "    X_train.append(X_train_df)\n",
    "    y_train.append(y_train_df)\n",
    "    X_test.append(X_test_df)\n",
    "    y_test.append(y_test_df)\n",
    "    \n",
    "X_train, y_train, X_test, y_test = np.vstack(X_train), np.vstack(y_train), np.vstack(X_test), np.vstack(y_test)"
   ]
  },
  {
   "cell_type": "markdown",
   "id": "a5ecdfba9dd8600c",
   "metadata": {},
   "source": [
    "Using this function will result in having our train and test data partitions in a shape of (cases, timesteps, variables) for x and (cases, label) for y."
   ]
  },
  {
   "cell_type": "code",
   "execution_count": null,
   "id": "ef3168f6fd3781bb",
   "metadata": {
    "is_executing": true
   },
   "outputs": [],
   "source": [
    "X_train.shape, X_test.shape, y_train.shape, y_test.shape"
   ]
  },
  {
   "cell_type": "markdown",
   "id": "d5e94d63a8669278",
   "metadata": {},
   "source": []
  },
  {
   "cell_type": "markdown",
   "id": "daeba980947b2e9c",
   "metadata": {},
   "source": [
    "#### Dropping rare maneuvers and balancing classes with preprocessing.remove_maneuvers\n",
    "\n",
    "To examine how many individual driving maneuvers were recorded per maneuver type, the following plot can be considered. It turns out that some maneuvers, such as overtaking or crossing an intersection, occurred in too few cases overall. Therefore these maneuvers should be excluded. By using preprocessing.remove_maneuvers we can drop maneuvers completely or apply undersampling to balance the class distributions within both our test and training data."
   ]
  },
  {
   "cell_type": "code",
   "execution_count": null,
   "id": "97615cb7879a438a",
   "metadata": {
    "is_executing": true
   },
   "outputs": [],
   "source": [
    "fig = go.Figure(data=[\n",
    "    go.Bar(name='Training data', x=np.unique(y_train), y=np.unique(y_train, return_counts=True)[1]),\n",
    "    go.Bar(name='Test data', x=np.unique(y_test), y=np.unique(y_test, return_counts=True)[1])\n",
    "])\n",
    "\n",
    "fig.update_layout(barmode='stack', title=\"Amount of windows per maneuver type in the train and test data\")\n",
    "fig.update_xaxes(title_text='maneuver')\n",
    "fig.update_yaxes(title_text='Amount')\n",
    "fig.show()"
   ]
  },
  {
   "cell_type": "code",
   "execution_count": null,
   "id": "3054d0654545a9ed",
   "metadata": {
    "is_executing": true
   },
   "outputs": [],
   "source": [
    "drop_maneuvers = ['acceleration_lane', 'overtaking', 'deceleration_lane', 'crossing_roundabout', 'crossing_intersection']\n",
    "\n",
    "\n",
    "X_train, y_train, X_test, y_test = preprocessing.remove_maneuvers(X_train, y_train, X_test, y_test, drop_maneuvers)\n",
    "X_train, y_train, X_test, y_test = preprocessing.remove_maneuvers(X_train, y_train, X_test, y_test, \n",
    "                                                                  'continuous_driving', 0.9)\n",
    "X_train, y_train, X_test, y_test = preprocessing.remove_maneuvers(X_train, y_train, X_test, y_test, \n",
    "                                                                  'stationary', 0.8)"
   ]
  },
  {
   "cell_type": "markdown",
   "id": "d2b1e1e63ff08e28",
   "metadata": {},
   "source": [
    "Let's have another look at the amount of windows in our new training and testing partitions. There will still be slight imbalance between our maneuver classes, but now the data set is much better suited for training and testing our model and since we are dealing with real world data it is fine not to synthetically bring the data to an absolute balanced ratio.\n"
   ]
  },
  {
   "cell_type": "code",
   "execution_count": null,
   "id": "20ee93275343fd10",
   "metadata": {
    "is_executing": true
   },
   "outputs": [],
   "source": [
    "fig = go.Figure(data=[\n",
    "    go.Bar(name='Training data', x=np.unique(y_train), y=np.unique(y_train, return_counts=True)[1],\n",
    "           text=np.unique(y_train, return_counts=True)[1], textposition='auto'),\n",
    "    go.Bar(name='Test data', x=np.unique(y_test), y=np.unique(y_test, return_counts=True)[1],\n",
    "           text=np.unique(y_test, return_counts=True)[1], textposition='auto')\n",
    "])\n",
    "\n",
    "fig.update_layout(barmode='stack', title=\"Amount of windows per maneuver type in the train and test data\")\n",
    "fig.update_xaxes(title_text='maneuver')\n",
    "fig.update_yaxes(title_text='Amount')\n",
    "fig.show()"
   ]
  },
  {
   "cell_type": "markdown",
   "id": "fc540486dbd0b0dd",
   "metadata": {},
   "source": [
    "#### Label encoding with preprocessing.LabelEncoding and variable transformation with preprocessing.transform_variables\n",
    "\n",
    "Now we have to create a label encoder so that we can extract the correct labels of the predictions later. The last step is to turn our training and testing data into the format of a PyTorch variable."
   ]
  },
  {
   "cell_type": "code",
   "execution_count": null,
   "id": "3481fbc04458eb40",
   "metadata": {
    "is_executing": true
   },
   "outputs": [],
   "source": [
    "encoding = preprocessing.LabelEncoding(y_train, y_test)\n",
    "y_train, y_test = encoding.transform()"
   ]
  },
  {
   "cell_type": "code",
   "execution_count": null,
   "id": "8eede8d37d18b78a",
   "metadata": {
    "is_executing": true
   },
   "outputs": [],
   "source": [
    "X_train, y_train, X_test, y_test = preprocessing.transform_variables(X_train, y_train, X_test, y_test)"
   ]
  },
  {
   "cell_type": "markdown",
   "id": "73ce564168803b62",
   "metadata": {},
   "source": [
    "## Modelling\n",
    "Before using the modelling module of the maneuver recognition package, we can set the device to use for training and testing our model."
   ]
  },
  {
   "cell_type": "code",
   "execution_count": null,
   "id": "a78bc9109d7f8d19",
   "metadata": {
    "is_executing": true
   },
   "outputs": [],
   "source": [
    "# Get cpu or gpu device for training.\n",
    "device = \"cuda\" if torch.cuda.is_available() else \"cpu\"\n",
    "print(f\"Using {device} device\")"
   ]
  },
  {
   "cell_type": "markdown",
   "id": "2b622ec3ca0e17c9",
   "metadata": {},
   "source": [
    "#### Defining model architecture and initializing the model with modelling.ManeuverModel\n",
    "The modelling module can then be used to create and use a pytorch LSTM model. The base structure of the model is already defined and consists of a LSTM layer, two linear fully connected layers with a dropout of 0.3 and a final linear layer for multi class classification. Different configurations have been tested for this use case, but with the following parameters the architecture of the model can be configured individually:\n",
    "- hidden_size: The number of features in the hidden state.\n",
    "- lstm_layers: Number of stacked LSTM layers.\n",
    "- lstm_dropout: Rate of applied dropout in LSTM layers.\n"
   ]
  },
  {
   "cell_type": "code",
   "execution_count": null,
   "id": "c74569367c7d766e",
   "metadata": {
    "is_executing": true
   },
   "outputs": [],
   "source": [
    "from maneuver_recognition import modelling\n",
    "\n",
    "\n",
    "number_of_features = X_train.shape[2]\n",
    "number_of_classes = len(np.unique(y_train))\n",
    "hidden_size = 24\n",
    "lstm_layers = 2\n",
    "lstm_dropout = 0.7\n",
    "\n",
    "model     = modelling.ManeuverModel(number_of_features, number_of_classes, hidden_size, lstm_layers, lstm_dropout).to(device)\n",
    "\n",
    "print(model)"
   ]
  },
  {
   "cell_type": "markdown",
   "id": "266cfd088baac025",
   "metadata": {},
   "source": [
    "#### Training the model with modelling.train_maneuver_model\n",
    "\n",
    "Now we can use the function train_maneuver_model to fit the model. The function uses PyTorch's DataLoader wrapper, so we can directly input our training and testing data and define a specific batch_size. We also have to set the number of epochs and define an optimizer as well as the type of loss function to use for the training process."
   ]
  },
  {
   "cell_type": "code",
   "execution_count": null,
   "id": "ebfb6f2be285c9ed",
   "metadata": {
    "is_executing": true
   },
   "outputs": [],
   "source": [
    "optimizer = torch.optim.Adam(model.parameters(), lr=0.001)\n",
    "loss_fn   = nn.CrossEntropyLoss()\n",
    "\n",
    "loss_list, accuracy_list = modelling.train_maneuver_model(model, X_train, y_train, X_test, y_test, epochs=100,\n",
    "                                         batch_size=128, loss_function=loss_fn, optimizer=optimizer,\n",
    "                                         device=device)"
   ]
  },
  {
   "cell_type": "markdown",
   "id": "13907399530c7b55",
   "metadata": {},
   "source": [
    "## Evaluation"
   ]
  },
  {
   "cell_type": "markdown",
   "id": "6cd7ec6fa719bef",
   "metadata": {},
   "source": [
    "#### Plot validation accuracy and loss in training process with plot_training_process\n",
    "\n",
    "By examining the evolution of validation accuracy and validation loss, we can see how good our training process works and whether we tend to some kind of over- or underfitting."
   ]
  },
  {
   "cell_type": "code",
   "execution_count": null,
   "id": "5d0031f3aac6006d",
   "metadata": {
    "is_executing": true
   },
   "outputs": [],
   "source": [
    "from maneuver_recognition import evaluation\n",
    "evaluation.plot_training_process(loss_list, accuracy_list)"
   ]
  },
  {
   "cell_type": "markdown",
   "id": "83ff277990d7ac94",
   "metadata": {},
   "source": [
    "#### Evaluate model performance using a multi class correlation matrix with evaluation.confusion_heatmap\n",
    "In order to evaluate the performance of our model, we can use the function predict() from the modelling module with our test data and then compare the predicted with the actual values. This can be done by first using our already created encoding object which inherits our label_encoder. The label_encoder enables the access to the previously encoded classes and features the function inverse_transform().\n",
    "\n",
    "With these class labels and the inverse transformed y_test and y_pred data we can use the confusion_heatmap() function of the evaluation module to plot the comparison of actual and predicted values.\n",
    " \n",
    "Since we have an unbalanced multi-class use case, and the color intensity of a regular heatmap takes all fields into account, the distribution should instead be inspected row by row which can be done by setting the parameter relative to True. In this way we can inspect each class separately for the amount of correctly classified values and get a True Positive rate for every single class in the diagonal.\n"
   ]
  },
  {
   "cell_type": "code",
   "execution_count": null,
   "id": "140ca1982301ca0",
   "metadata": {
    "is_executing": true
   },
   "outputs": [],
   "source": [
    "y_pred = modelling.predict(X_test, model)\n",
    "\n",
    "# Inverse transform the encoded y\n",
    "y_test_inverse = encoding.label_encoder.inverse_transform(y_test)\n",
    "y_pred_inverse = encoding.label_encoder.inverse_transform(y_pred)\n",
    "classes = encoding.label_encoder.classes_\n",
    "\n",
    "evaluation.confusion_heatmap(y_test, y_pred, classes, relative=True)"
   ]
  },
  {
   "cell_type": "code",
   "execution_count": null,
   "id": "815deb4ad668d92",
   "metadata": {
    "is_executing": true
   },
   "outputs": [],
   "source": []
  }
 ],
 "metadata": {
  "kernelspec": {
   "display_name": "Python 3 (ipykernel)",
   "language": "python",
   "name": "python3"
  },
  "language_info": {
   "codemirror_mode": {
    "name": "ipython",
    "version": 2
   },
   "file_extension": ".py",
   "mimetype": "text/x-python",
   "name": "python",
   "nbconvert_exporter": "python",
   "pygments_lexer": "ipython2",
   "version": "2.7.6"
  }
 },
 "nbformat": 4,
 "nbformat_minor": 5
}
